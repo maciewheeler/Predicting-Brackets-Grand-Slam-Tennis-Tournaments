{
 "cells": [
  {
   "attachments": {},
   "cell_type": "markdown",
   "metadata": {},
   "source": [
    "# ML Pipeline\n",
    "\n",
    "> This pipeline uses each match's outcome to learn which player shall make it to the round of 16"
   ]
  },
  {
   "attachments": {},
   "cell_type": "markdown",
   "metadata": {},
   "source": [
    "- The model trains on data recorded in the prior 3 years of the testing year\n",
    "- Post training, it predicts the first round of the tournament in two ways:\n",
    "    - Walkovers (given manually) for players who compete with players who don't have statistics\n",
    "    - model's predictions for matches where both players have statistics\n",
    "- Testing data is reconstructed to predict winners of the second round\n",
    "- Only relies on model for prediction of winners of second round\n",
    "- Testing data is reconstructed to predict winners of the third round. This is also the last loop of testing.\n",
    "- Only relies on model for prediction of winners of third round\n",
    "- Compare with the actual results and winners of third round"
   ]
  },
  {
   "attachments": {},
   "cell_type": "markdown",
   "metadata": {},
   "source": [
    "# Import Libraries"
   ]
  },
  {
   "cell_type": "code",
   "execution_count": 1,
   "metadata": {},
   "outputs": [],
   "source": [
    "import pandas as pd\n",
    "from difflib import get_close_matches\n",
    "import numpy as np\n",
    "from sklearn.ensemble import GradientBoostingClassifier\n",
    "from sklearn.metrics import (\n",
    "    confusion_matrix,\n",
    "    accuracy_score,\n",
    "    precision_score,\n",
    "    recall_score,\n",
    "    f1_score\n",
    ")"
   ]
  },
  {
   "attachments": {},
   "cell_type": "markdown",
   "metadata": {},
   "source": [
    "# Utils"
   ]
  },
  {
   "cell_type": "code",
   "execution_count": 2,
   "metadata": {},
   "outputs": [],
   "source": [
    "stats = ['aces_per_match', 'double_faults_per_match', 'break_points_faced_per_match',\n",
    "         'break_points_opportunities_per_match', 'height (cm)',\n",
    "         'matches_played', '1st_serve',\n",
    "         'return_games_won', '1st_serve_points_won', '2nd_serve_points_won',\n",
    "         'service_games_won', '1st_serve_return_points_won',\n",
    "         '2nd_serve_return_points_won', 'pressure_rating']\n",
    "\n",
    "# DO NOT CHANGE THIS: It conatins the order of matches so that the match seeds are intact\n",
    "actual_seed = [48, 43, 34, 42, 35, 53, 57, 40, 52, 49, 63, 54, 55, 59, 46,\n",
    "               58, 39, 60, 41, 33, 61, 56, 50, 62, 51, 44, 38, 37, 45, 36,\n",
    "               32, 47, 8, 10, 9, 15, 21, 25, 6, 7, 14, 24, 20, 18, 13, 11,\n",
    "               26, 19, 16, 4, 3, 2, 28, 5, 12, 1, 17, 27, 30, 22, 29, 0,\n",
    "               23, 31,]\n",
    "\n",
    "\n",
    "def change_name(name: str) -> str:\n",
    "    \"\"\"change order of name from first last to last first\n",
    "\n",
    "    Args:\n",
    "        name (str): name of player as first last\n",
    "\n",
    "    Returns:\n",
    "        str: last first name\n",
    "    \"\"\"\n",
    "    split_names = name.split()\n",
    "    f_name = split_names.pop(0)\n",
    "    split_names.append(f_name)\n",
    "    final_name = \" \".join(split_names)\n",
    "    return final_name\n",
    "\n",
    "\n",
    "def stat_df(year: int) -> pd.DataFrame:\n",
    "    \"\"\"returns stats of players participating in the next given year's AO\n",
    "\n",
    "    Args:\n",
    "        year (int): year of stats needed\n",
    "\n",
    "    Returns:\n",
    "        pd.DataFrame: stats of players participating in the next given year's AO\n",
    "    \"\"\"\n",
    "    df = pd.read_csv(f'./data/aus-open-player-stats-{year}.csv')\n",
    "    df['pressure_rating'].fillna(0, inplace=True)\n",
    "\n",
    "    df.loc[df.aces == 0, 'aces'] = -np.inf\n",
    "\n",
    "    per_match_cols = ['aces', 'double_faults',\n",
    "                      'break_points_opportunities', 'break_points_faced']\n",
    "    for col in per_match_cols:\n",
    "        df[f'{col}_per_match'] = df[col] / df.matches_played\n",
    "\n",
    "    percent_cols = [\"1st_serve\", \"1st_serve_points_won\", \"2nd_serve_points_won\", \"break_points_saved\",\n",
    "                    \"service_games_won\", \"1st_serve_return_points_won\", \"2nd_serve_return_points_won\",\n",
    "                    \"break_points_converted\", \"return_games_won\", 'total_points_won', 'return_points_won']\n",
    "    for col in percent_cols:\n",
    "        df[col] = df[col].apply(lambda x: round(float(x.strip('%')) / 100, 2))\n",
    "\n",
    "    per_match_cols = [f'{x}_per_match' for x in per_match_cols]\n",
    "    per_match_cols.extend(percent_cols)\n",
    "    per_match_cols.extend(['name', 'year', 'height (cm)', 'matches_played', 'pressure_rating'])\n",
    "    return df[per_match_cols]\n"
   ]
  },
  {
   "cell_type": "code",
   "execution_count": 3,
   "metadata": {},
   "outputs": [],
   "source": [
    "def year_df(year: int) -> pd.DataFrame:\n",
    "    \"\"\"provides training data for the given year\n",
    "\n",
    "    Args:\n",
    "        year (int): year of the tournament\n",
    "\n",
    "    Returns:\n",
    "        pd.DataFrame: training data for the given year with the player's stats in the previous year\n",
    "    \"\"\"\n",
    "    df = pd.read_csv(f'./data/m{year}.csv')\n",
    "    df['Date'] = pd.to_datetime(df['Date'], dayfirst=True).dt.year\n",
    "    df = df[['Round', 'Winner', 'Loser', 'WRank', 'LRank', 'Date']]\n",
    "\n",
    "    even = df.iloc[::2,].copy(deep=True)\n",
    "    odd = df.iloc[1::2,].copy(deep=True)\n",
    "    even.rename(columns={'Winner': 'player_0', 'Loser': 'player_1',\n",
    "                'WRank': 'rank_0', 'LRank': 'rank_1'}, inplace=True)\n",
    "    odd.rename(columns={'Winner': 'player_1', 'Loser': 'player_0',\n",
    "                'WRank': 'rank_1', 'LRank': 'rank_0'}, inplace=True)\n",
    "    even['winner'] = 0\n",
    "    odd['winner'] = 1\n",
    "\n",
    "\n",
    "    final_df = pd.concat([even, odd]).sort_index()\n",
    "    final_df['rank'] = final_df['rank_0'] - final_df['rank_1']\n",
    "    # final_df.drop(columns=['rank'], inplace=True)\n",
    "\n",
    "    names_to_lookup = set(final_df.player_0)\n",
    "    names_to_lookup.update(set(final_df.player_1))\n",
    "\n",
    "    df2 = stat_df(year - 1)\n",
    "\n",
    "    df2['new_name'] = df2['name'].apply(change_name)\n",
    "    df2['other_name'] = df2['new_name'].apply(\n",
    "        lambda x: get_close_matches(x, names_to_lookup, 1, cutoff=0.5)[0])\n",
    "\n",
    "    df2 = df2.drop(columns=['new_name'])\n",
    "\n",
    "    final_df[stats] = final_df.apply(lambda x: df2.loc[df2.other_name == x.player_0,stats].copy(deep=True).iloc[0,] - df2.loc[df2.other_name == x.player_1,stats].copy(deep=True).iloc[0,], axis=1)\n",
    "    return final_df\n"
   ]
  },
  {
   "attachments": {},
   "cell_type": "markdown",
   "metadata": {},
   "source": [
    "# Training data"
   ]
  },
  {
   "cell_type": "code",
   "execution_count": 4,
   "metadata": {},
   "outputs": [
    {
     "data": {
      "text/html": [
       "<div>\n",
       "<style scoped>\n",
       "    .dataframe tbody tr th:only-of-type {\n",
       "        vertical-align: middle;\n",
       "    }\n",
       "\n",
       "    .dataframe tbody tr th {\n",
       "        vertical-align: top;\n",
       "    }\n",
       "\n",
       "    .dataframe thead th {\n",
       "        text-align: right;\n",
       "    }\n",
       "</style>\n",
       "<table border=\"1\" class=\"dataframe\">\n",
       "  <thead>\n",
       "    <tr style=\"text-align: right;\">\n",
       "      <th></th>\n",
       "      <th>Round</th>\n",
       "      <th>player_0</th>\n",
       "      <th>player_1</th>\n",
       "      <th>rank_0</th>\n",
       "      <th>rank_1</th>\n",
       "      <th>Date</th>\n",
       "      <th>winner</th>\n",
       "      <th>rank</th>\n",
       "      <th>aces_per_match</th>\n",
       "      <th>double_faults_per_match</th>\n",
       "      <th>...</th>\n",
       "      <th>height (cm)</th>\n",
       "      <th>matches_played</th>\n",
       "      <th>1st_serve</th>\n",
       "      <th>return_games_won</th>\n",
       "      <th>1st_serve_points_won</th>\n",
       "      <th>2nd_serve_points_won</th>\n",
       "      <th>service_games_won</th>\n",
       "      <th>1st_serve_return_points_won</th>\n",
       "      <th>2nd_serve_return_points_won</th>\n",
       "      <th>pressure_rating</th>\n",
       "    </tr>\n",
       "  </thead>\n",
       "  <tbody>\n",
       "    <tr>\n",
       "      <th>0</th>\n",
       "      <td>1st Round</td>\n",
       "      <td>Basic M.</td>\n",
       "      <td>Haase R.</td>\n",
       "      <td>138.0</td>\n",
       "      <td>65.0</td>\n",
       "      <td>2016</td>\n",
       "      <td>0</td>\n",
       "      <td>73.0</td>\n",
       "      <td>-inf</td>\n",
       "      <td>-1.342857</td>\n",
       "      <td>...</td>\n",
       "      <td>-3.0</td>\n",
       "      <td>7.0</td>\n",
       "      <td>-0.57</td>\n",
       "      <td>-0.20</td>\n",
       "      <td>-0.72</td>\n",
       "      <td>-0.49</td>\n",
       "      <td>-0.77</td>\n",
       "      <td>-0.25</td>\n",
       "      <td>-0.47</td>\n",
       "      <td>43.4</td>\n",
       "    </tr>\n",
       "    <tr>\n",
       "      <th>1</th>\n",
       "      <td>1st Round</td>\n",
       "      <td>Stakhovsky S.</td>\n",
       "      <td>Goffin D.</td>\n",
       "      <td>60.0</td>\n",
       "      <td>16.0</td>\n",
       "      <td>2016</td>\n",
       "      <td>1</td>\n",
       "      <td>44.0</td>\n",
       "      <td>-1.163594</td>\n",
       "      <td>-2.261905</td>\n",
       "      <td>...</td>\n",
       "      <td>13.0</td>\n",
       "      <td>11.0</td>\n",
       "      <td>0.08</td>\n",
       "      <td>-0.09</td>\n",
       "      <td>-0.03</td>\n",
       "      <td>0.01</td>\n",
       "      <td>0.03</td>\n",
       "      <td>-0.04</td>\n",
       "      <td>-0.07</td>\n",
       "      <td>16.7</td>\n",
       "    </tr>\n",
       "    <tr>\n",
       "      <th>2</th>\n",
       "      <td>1st Round</td>\n",
       "      <td>Dzumhur D.</td>\n",
       "      <td>Edmund K.</td>\n",
       "      <td>81.0</td>\n",
       "      <td>88.0</td>\n",
       "      <td>2016</td>\n",
       "      <td>0</td>\n",
       "      <td>-7.0</td>\n",
       "      <td>0.146154</td>\n",
       "      <td>0.171795</td>\n",
       "      <td>...</td>\n",
       "      <td>-13.0</td>\n",
       "      <td>1.0</td>\n",
       "      <td>0.08</td>\n",
       "      <td>0.23</td>\n",
       "      <td>0.08</td>\n",
       "      <td>-0.14</td>\n",
       "      <td>-0.02</td>\n",
       "      <td>0.08</td>\n",
       "      <td>0.09</td>\n",
       "      <td>20.5</td>\n",
       "    </tr>\n",
       "    <tr>\n",
       "      <th>3</th>\n",
       "      <td>1st Round</td>\n",
       "      <td>Estrella Burgos V.</td>\n",
       "      <td>Brands D.</td>\n",
       "      <td>55.0</td>\n",
       "      <td>151.0</td>\n",
       "      <td>2016</td>\n",
       "      <td>1</td>\n",
       "      <td>-96.0</td>\n",
       "      <td>2.331915</td>\n",
       "      <td>1.837234</td>\n",
       "      <td>...</td>\n",
       "      <td>-26.0</td>\n",
       "      <td>-27.0</td>\n",
       "      <td>0.07</td>\n",
       "      <td>-0.04</td>\n",
       "      <td>-0.10</td>\n",
       "      <td>-0.13</td>\n",
       "      <td>-0.10</td>\n",
       "      <td>-0.02</td>\n",
       "      <td>-0.11</td>\n",
       "      <td>-13.7</td>\n",
       "    </tr>\n",
       "    <tr>\n",
       "      <th>4</th>\n",
       "      <td>1st Round</td>\n",
       "      <td>Nishikori K.</td>\n",
       "      <td>Kohlschreiber P.</td>\n",
       "      <td>7.0</td>\n",
       "      <td>34.0</td>\n",
       "      <td>2016</td>\n",
       "      <td>0</td>\n",
       "      <td>-27.0</td>\n",
       "      <td>-1.993590</td>\n",
       "      <td>0.894231</td>\n",
       "      <td>...</td>\n",
       "      <td>0.0</td>\n",
       "      <td>28.0</td>\n",
       "      <td>-0.01</td>\n",
       "      <td>0.07</td>\n",
       "      <td>0.03</td>\n",
       "      <td>-0.02</td>\n",
       "      <td>0.04</td>\n",
       "      <td>0.02</td>\n",
       "      <td>0.05</td>\n",
       "      <td>16.4</td>\n",
       "    </tr>\n",
       "    <tr>\n",
       "      <th>...</th>\n",
       "      <td>...</td>\n",
       "      <td>...</td>\n",
       "      <td>...</td>\n",
       "      <td>...</td>\n",
       "      <td>...</td>\n",
       "      <td>...</td>\n",
       "      <td>...</td>\n",
       "      <td>...</td>\n",
       "      <td>...</td>\n",
       "      <td>...</td>\n",
       "      <td>...</td>\n",
       "      <td>...</td>\n",
       "      <td>...</td>\n",
       "      <td>...</td>\n",
       "      <td>...</td>\n",
       "      <td>...</td>\n",
       "      <td>...</td>\n",
       "      <td>...</td>\n",
       "      <td>...</td>\n",
       "      <td>...</td>\n",
       "      <td>...</td>\n",
       "    </tr>\n",
       "    <tr>\n",
       "      <th>122</th>\n",
       "      <td>Quarterfinals</td>\n",
       "      <td>Chung H.</td>\n",
       "      <td>Sandgren T.</td>\n",
       "      <td>58.0</td>\n",
       "      <td>97.0</td>\n",
       "      <td>2018</td>\n",
       "      <td>0</td>\n",
       "      <td>-39.0</td>\n",
       "      <td>1.159184</td>\n",
       "      <td>1.942857</td>\n",
       "      <td>...</td>\n",
       "      <td>0.0</td>\n",
       "      <td>19.0</td>\n",
       "      <td>-0.03</td>\n",
       "      <td>0.09</td>\n",
       "      <td>-0.04</td>\n",
       "      <td>-0.03</td>\n",
       "      <td>-0.08</td>\n",
       "      <td>0.08</td>\n",
       "      <td>0.01</td>\n",
       "      <td>45.9</td>\n",
       "    </tr>\n",
       "    <tr>\n",
       "      <th>123</th>\n",
       "      <td>Quarterfinals</td>\n",
       "      <td>Berdych T.</td>\n",
       "      <td>Federer R.</td>\n",
       "      <td>20.0</td>\n",
       "      <td>2.0</td>\n",
       "      <td>2018</td>\n",
       "      <td>1</td>\n",
       "      <td>18.0</td>\n",
       "      <td>2.898785</td>\n",
       "      <td>2.747976</td>\n",
       "      <td>...</td>\n",
       "      <td>11.0</td>\n",
       "      <td>-33.0</td>\n",
       "      <td>-0.06</td>\n",
       "      <td>-0.04</td>\n",
       "      <td>-0.01</td>\n",
       "      <td>-0.08</td>\n",
       "      <td>-0.07</td>\n",
       "      <td>-0.06</td>\n",
       "      <td>0.03</td>\n",
       "      <td>-52.6</td>\n",
       "    </tr>\n",
       "    <tr>\n",
       "      <th>124</th>\n",
       "      <td>Semifinals</td>\n",
       "      <td>Cilic M.</td>\n",
       "      <td>Edmund K.</td>\n",
       "      <td>6.0</td>\n",
       "      <td>49.0</td>\n",
       "      <td>2018</td>\n",
       "      <td>0</td>\n",
       "      <td>-43.0</td>\n",
       "      <td>2.104312</td>\n",
       "      <td>-0.351981</td>\n",
       "      <td>...</td>\n",
       "      <td>10.0</td>\n",
       "      <td>5.0</td>\n",
       "      <td>0.00</td>\n",
       "      <td>0.01</td>\n",
       "      <td>0.02</td>\n",
       "      <td>-0.02</td>\n",
       "      <td>-0.03</td>\n",
       "      <td>0.04</td>\n",
       "      <td>-0.02</td>\n",
       "      <td>9.8</td>\n",
       "    </tr>\n",
       "    <tr>\n",
       "      <th>125</th>\n",
       "      <td>Semifinals</td>\n",
       "      <td>Chung H.</td>\n",
       "      <td>Federer R.</td>\n",
       "      <td>58.0</td>\n",
       "      <td>2.0</td>\n",
       "      <td>2018</td>\n",
       "      <td>1</td>\n",
       "      <td>56.0</td>\n",
       "      <td>-6.194662</td>\n",
       "      <td>0.469780</td>\n",
       "      <td>...</td>\n",
       "      <td>3.0</td>\n",
       "      <td>-3.0</td>\n",
       "      <td>-0.03</td>\n",
       "      <td>0.01</td>\n",
       "      <td>-0.09</td>\n",
       "      <td>-0.12</td>\n",
       "      <td>-0.16</td>\n",
       "      <td>0.00</td>\n",
       "      <td>0.02</td>\n",
       "      <td>-39.0</td>\n",
       "    </tr>\n",
       "    <tr>\n",
       "      <th>126</th>\n",
       "      <td>The Final</td>\n",
       "      <td>Federer R.</td>\n",
       "      <td>Cilic M.</td>\n",
       "      <td>2.0</td>\n",
       "      <td>6.0</td>\n",
       "      <td>2018</td>\n",
       "      <td>0</td>\n",
       "      <td>-4.0</td>\n",
       "      <td>-0.232517</td>\n",
       "      <td>-0.872378</td>\n",
       "      <td>...</td>\n",
       "      <td>-13.0</td>\n",
       "      <td>8.0</td>\n",
       "      <td>0.03</td>\n",
       "      <td>0.05</td>\n",
       "      <td>0.02</td>\n",
       "      <td>0.09</td>\n",
       "      <td>0.10</td>\n",
       "      <td>0.02</td>\n",
       "      <td>0.01</td>\n",
       "      <td>56.2</td>\n",
       "    </tr>\n",
       "  </tbody>\n",
       "</table>\n",
       "<p>381 rows × 22 columns</p>\n",
       "</div>"
      ],
      "text/plain": [
       "             Round            player_0          player_1  rank_0  rank_1  \\\n",
       "0        1st Round            Basic M.          Haase R.   138.0    65.0   \n",
       "1        1st Round       Stakhovsky S.         Goffin D.    60.0    16.0   \n",
       "2        1st Round          Dzumhur D.         Edmund K.    81.0    88.0   \n",
       "3        1st Round  Estrella Burgos V.         Brands D.    55.0   151.0   \n",
       "4        1st Round        Nishikori K.  Kohlschreiber P.     7.0    34.0   \n",
       "..             ...                 ...               ...     ...     ...   \n",
       "122  Quarterfinals            Chung H.       Sandgren T.    58.0    97.0   \n",
       "123  Quarterfinals          Berdych T.        Federer R.    20.0     2.0   \n",
       "124     Semifinals            Cilic M.         Edmund K.     6.0    49.0   \n",
       "125     Semifinals            Chung H.        Federer R.    58.0     2.0   \n",
       "126      The Final          Federer R.          Cilic M.     2.0     6.0   \n",
       "\n",
       "     Date  winner  rank  aces_per_match  double_faults_per_match  ...  \\\n",
       "0    2016       0  73.0            -inf                -1.342857  ...   \n",
       "1    2016       1  44.0       -1.163594                -2.261905  ...   \n",
       "2    2016       0  -7.0        0.146154                 0.171795  ...   \n",
       "3    2016       1 -96.0        2.331915                 1.837234  ...   \n",
       "4    2016       0 -27.0       -1.993590                 0.894231  ...   \n",
       "..    ...     ...   ...             ...                      ...  ...   \n",
       "122  2018       0 -39.0        1.159184                 1.942857  ...   \n",
       "123  2018       1  18.0        2.898785                 2.747976  ...   \n",
       "124  2018       0 -43.0        2.104312                -0.351981  ...   \n",
       "125  2018       1  56.0       -6.194662                 0.469780  ...   \n",
       "126  2018       0  -4.0       -0.232517                -0.872378  ...   \n",
       "\n",
       "     height (cm)  matches_played  1st_serve  return_games_won  \\\n",
       "0           -3.0             7.0      -0.57             -0.20   \n",
       "1           13.0            11.0       0.08             -0.09   \n",
       "2          -13.0             1.0       0.08              0.23   \n",
       "3          -26.0           -27.0       0.07             -0.04   \n",
       "4            0.0            28.0      -0.01              0.07   \n",
       "..           ...             ...        ...               ...   \n",
       "122          0.0            19.0      -0.03              0.09   \n",
       "123         11.0           -33.0      -0.06             -0.04   \n",
       "124         10.0             5.0       0.00              0.01   \n",
       "125          3.0            -3.0      -0.03              0.01   \n",
       "126        -13.0             8.0       0.03              0.05   \n",
       "\n",
       "     1st_serve_points_won  2nd_serve_points_won  service_games_won  \\\n",
       "0                   -0.72                 -0.49              -0.77   \n",
       "1                   -0.03                  0.01               0.03   \n",
       "2                    0.08                 -0.14              -0.02   \n",
       "3                   -0.10                 -0.13              -0.10   \n",
       "4                    0.03                 -0.02               0.04   \n",
       "..                    ...                   ...                ...   \n",
       "122                 -0.04                 -0.03              -0.08   \n",
       "123                 -0.01                 -0.08              -0.07   \n",
       "124                  0.02                 -0.02              -0.03   \n",
       "125                 -0.09                 -0.12              -0.16   \n",
       "126                  0.02                  0.09               0.10   \n",
       "\n",
       "     1st_serve_return_points_won  2nd_serve_return_points_won  pressure_rating  \n",
       "0                          -0.25                        -0.47             43.4  \n",
       "1                          -0.04                        -0.07             16.7  \n",
       "2                           0.08                         0.09             20.5  \n",
       "3                          -0.02                        -0.11            -13.7  \n",
       "4                           0.02                         0.05             16.4  \n",
       "..                           ...                          ...              ...  \n",
       "122                         0.08                         0.01             45.9  \n",
       "123                        -0.06                         0.03            -52.6  \n",
       "124                         0.04                        -0.02              9.8  \n",
       "125                         0.00                         0.02            -39.0  \n",
       "126                         0.02                         0.01             56.2  \n",
       "\n",
       "[381 rows x 22 columns]"
      ]
     },
     "execution_count": 4,
     "metadata": {},
     "output_type": "execute_result"
    }
   ],
   "source": [
    "final_df = pd.DataFrame()\n",
    "for year in range(2016, 2019):\n",
    "    final_df = pd.concat([final_df, year_df(year)])\n",
    "final_df"
   ]
  },
  {
   "attachments": {},
   "cell_type": "markdown",
   "metadata": {},
   "source": [
    "# Preprocessing"
   ]
  },
  {
   "attachments": {},
   "cell_type": "markdown",
   "metadata": {},
   "source": [
    "## Drop NA Values"
   ]
  },
  {
   "cell_type": "code",
   "execution_count": 5,
   "metadata": {},
   "outputs": [],
   "source": [
    "final_df = final_df.replace([np.inf, -np.inf], np.nan).dropna()"
   ]
  },
  {
   "attachments": {},
   "cell_type": "markdown",
   "metadata": {},
   "source": [
    "## One Hot Encoding"
   ]
  },
  {
   "cell_type": "code",
   "execution_count": 6,
   "metadata": {},
   "outputs": [
    {
     "data": {
      "text/html": [
       "<div>\n",
       "<style scoped>\n",
       "    .dataframe tbody tr th:only-of-type {\n",
       "        vertical-align: middle;\n",
       "    }\n",
       "\n",
       "    .dataframe tbody tr th {\n",
       "        vertical-align: top;\n",
       "    }\n",
       "\n",
       "    .dataframe thead th {\n",
       "        text-align: right;\n",
       "    }\n",
       "</style>\n",
       "<table border=\"1\" class=\"dataframe\">\n",
       "  <thead>\n",
       "    <tr style=\"text-align: right;\">\n",
       "      <th></th>\n",
       "      <th>player_0</th>\n",
       "      <th>player_1</th>\n",
       "      <th>rank_0</th>\n",
       "      <th>rank_1</th>\n",
       "      <th>Date</th>\n",
       "      <th>winner</th>\n",
       "      <th>rank</th>\n",
       "      <th>aces_per_match</th>\n",
       "      <th>double_faults_per_match</th>\n",
       "      <th>break_points_faced_per_match</th>\n",
       "      <th>...</th>\n",
       "      <th>1st_serve_return_points_won</th>\n",
       "      <th>2nd_serve_return_points_won</th>\n",
       "      <th>pressure_rating</th>\n",
       "      <th>Round_1st Round</th>\n",
       "      <th>Round_2nd Round</th>\n",
       "      <th>Round_3rd Round</th>\n",
       "      <th>Round_4th Round</th>\n",
       "      <th>Round_Quarterfinals</th>\n",
       "      <th>Round_Semifinals</th>\n",
       "      <th>Round_The Final</th>\n",
       "    </tr>\n",
       "  </thead>\n",
       "  <tbody>\n",
       "    <tr>\n",
       "      <th>1</th>\n",
       "      <td>Stakhovsky S.</td>\n",
       "      <td>Goffin D.</td>\n",
       "      <td>60.0</td>\n",
       "      <td>16.0</td>\n",
       "      <td>2016</td>\n",
       "      <td>1</td>\n",
       "      <td>44.0</td>\n",
       "      <td>-1.163594</td>\n",
       "      <td>-2.261905</td>\n",
       "      <td>-1.115207</td>\n",
       "      <td>...</td>\n",
       "      <td>-0.04</td>\n",
       "      <td>-0.07</td>\n",
       "      <td>16.7</td>\n",
       "      <td>1</td>\n",
       "      <td>0</td>\n",
       "      <td>0</td>\n",
       "      <td>0</td>\n",
       "      <td>0</td>\n",
       "      <td>0</td>\n",
       "      <td>0</td>\n",
       "    </tr>\n",
       "    <tr>\n",
       "      <th>2</th>\n",
       "      <td>Dzumhur D.</td>\n",
       "      <td>Edmund K.</td>\n",
       "      <td>81.0</td>\n",
       "      <td>88.0</td>\n",
       "      <td>2016</td>\n",
       "      <td>0</td>\n",
       "      <td>-7.0</td>\n",
       "      <td>0.146154</td>\n",
       "      <td>0.171795</td>\n",
       "      <td>0.516026</td>\n",
       "      <td>...</td>\n",
       "      <td>0.08</td>\n",
       "      <td>0.09</td>\n",
       "      <td>20.5</td>\n",
       "      <td>1</td>\n",
       "      <td>0</td>\n",
       "      <td>0</td>\n",
       "      <td>0</td>\n",
       "      <td>0</td>\n",
       "      <td>0</td>\n",
       "      <td>0</td>\n",
       "    </tr>\n",
       "    <tr>\n",
       "      <th>3</th>\n",
       "      <td>Estrella Burgos V.</td>\n",
       "      <td>Brands D.</td>\n",
       "      <td>55.0</td>\n",
       "      <td>151.0</td>\n",
       "      <td>2016</td>\n",
       "      <td>1</td>\n",
       "      <td>-96.0</td>\n",
       "      <td>2.331915</td>\n",
       "      <td>1.837234</td>\n",
       "      <td>5.294681</td>\n",
       "      <td>...</td>\n",
       "      <td>-0.02</td>\n",
       "      <td>-0.11</td>\n",
       "      <td>-13.7</td>\n",
       "      <td>1</td>\n",
       "      <td>0</td>\n",
       "      <td>0</td>\n",
       "      <td>0</td>\n",
       "      <td>0</td>\n",
       "      <td>0</td>\n",
       "      <td>0</td>\n",
       "    </tr>\n",
       "    <tr>\n",
       "      <th>4</th>\n",
       "      <td>Nishikori K.</td>\n",
       "      <td>Kohlschreiber P.</td>\n",
       "      <td>7.0</td>\n",
       "      <td>34.0</td>\n",
       "      <td>2016</td>\n",
       "      <td>0</td>\n",
       "      <td>-27.0</td>\n",
       "      <td>-1.993590</td>\n",
       "      <td>0.894231</td>\n",
       "      <td>-1.198718</td>\n",
       "      <td>...</td>\n",
       "      <td>0.02</td>\n",
       "      <td>0.05</td>\n",
       "      <td>16.4</td>\n",
       "      <td>1</td>\n",
       "      <td>0</td>\n",
       "      <td>0</td>\n",
       "      <td>0</td>\n",
       "      <td>0</td>\n",
       "      <td>0</td>\n",
       "      <td>0</td>\n",
       "    </tr>\n",
       "    <tr>\n",
       "      <th>5</th>\n",
       "      <td>Wu D.</td>\n",
       "      <td>Krajicek A.</td>\n",
       "      <td>243.0</td>\n",
       "      <td>103.0</td>\n",
       "      <td>2016</td>\n",
       "      <td>1</td>\n",
       "      <td>140.0</td>\n",
       "      <td>-12.351449</td>\n",
       "      <td>-4.264493</td>\n",
       "      <td>-7.931159</td>\n",
       "      <td>...</td>\n",
       "      <td>0.06</td>\n",
       "      <td>0.06</td>\n",
       "      <td>0.0</td>\n",
       "      <td>1</td>\n",
       "      <td>0</td>\n",
       "      <td>0</td>\n",
       "      <td>0</td>\n",
       "      <td>0</td>\n",
       "      <td>0</td>\n",
       "      <td>0</td>\n",
       "    </tr>\n",
       "    <tr>\n",
       "      <th>...</th>\n",
       "      <td>...</td>\n",
       "      <td>...</td>\n",
       "      <td>...</td>\n",
       "      <td>...</td>\n",
       "      <td>...</td>\n",
       "      <td>...</td>\n",
       "      <td>...</td>\n",
       "      <td>...</td>\n",
       "      <td>...</td>\n",
       "      <td>...</td>\n",
       "      <td>...</td>\n",
       "      <td>...</td>\n",
       "      <td>...</td>\n",
       "      <td>...</td>\n",
       "      <td>...</td>\n",
       "      <td>...</td>\n",
       "      <td>...</td>\n",
       "      <td>...</td>\n",
       "      <td>...</td>\n",
       "      <td>...</td>\n",
       "      <td>...</td>\n",
       "    </tr>\n",
       "    <tr>\n",
       "      <th>122</th>\n",
       "      <td>Chung H.</td>\n",
       "      <td>Sandgren T.</td>\n",
       "      <td>58.0</td>\n",
       "      <td>97.0</td>\n",
       "      <td>2018</td>\n",
       "      <td>0</td>\n",
       "      <td>-39.0</td>\n",
       "      <td>1.159184</td>\n",
       "      <td>1.942857</td>\n",
       "      <td>3.654422</td>\n",
       "      <td>...</td>\n",
       "      <td>0.08</td>\n",
       "      <td>0.01</td>\n",
       "      <td>45.9</td>\n",
       "      <td>0</td>\n",
       "      <td>0</td>\n",
       "      <td>0</td>\n",
       "      <td>0</td>\n",
       "      <td>1</td>\n",
       "      <td>0</td>\n",
       "      <td>0</td>\n",
       "    </tr>\n",
       "    <tr>\n",
       "      <th>123</th>\n",
       "      <td>Berdych T.</td>\n",
       "      <td>Federer R.</td>\n",
       "      <td>20.0</td>\n",
       "      <td>2.0</td>\n",
       "      <td>2018</td>\n",
       "      <td>1</td>\n",
       "      <td>18.0</td>\n",
       "      <td>2.898785</td>\n",
       "      <td>2.747976</td>\n",
       "      <td>4.334008</td>\n",
       "      <td>...</td>\n",
       "      <td>-0.06</td>\n",
       "      <td>0.03</td>\n",
       "      <td>-52.6</td>\n",
       "      <td>0</td>\n",
       "      <td>0</td>\n",
       "      <td>0</td>\n",
       "      <td>0</td>\n",
       "      <td>1</td>\n",
       "      <td>0</td>\n",
       "      <td>0</td>\n",
       "    </tr>\n",
       "    <tr>\n",
       "      <th>124</th>\n",
       "      <td>Cilic M.</td>\n",
       "      <td>Edmund K.</td>\n",
       "      <td>6.0</td>\n",
       "      <td>49.0</td>\n",
       "      <td>2018</td>\n",
       "      <td>0</td>\n",
       "      <td>-43.0</td>\n",
       "      <td>2.104312</td>\n",
       "      <td>-0.351981</td>\n",
       "      <td>-1.005245</td>\n",
       "      <td>...</td>\n",
       "      <td>0.04</td>\n",
       "      <td>-0.02</td>\n",
       "      <td>9.8</td>\n",
       "      <td>0</td>\n",
       "      <td>0</td>\n",
       "      <td>0</td>\n",
       "      <td>0</td>\n",
       "      <td>0</td>\n",
       "      <td>1</td>\n",
       "      <td>0</td>\n",
       "    </tr>\n",
       "    <tr>\n",
       "      <th>125</th>\n",
       "      <td>Chung H.</td>\n",
       "      <td>Federer R.</td>\n",
       "      <td>58.0</td>\n",
       "      <td>2.0</td>\n",
       "      <td>2018</td>\n",
       "      <td>1</td>\n",
       "      <td>56.0</td>\n",
       "      <td>-6.194662</td>\n",
       "      <td>0.469780</td>\n",
       "      <td>1.195447</td>\n",
       "      <td>...</td>\n",
       "      <td>0.00</td>\n",
       "      <td>0.02</td>\n",
       "      <td>-39.0</td>\n",
       "      <td>0</td>\n",
       "      <td>0</td>\n",
       "      <td>0</td>\n",
       "      <td>0</td>\n",
       "      <td>0</td>\n",
       "      <td>1</td>\n",
       "      <td>0</td>\n",
       "    </tr>\n",
       "    <tr>\n",
       "      <th>126</th>\n",
       "      <td>Federer R.</td>\n",
       "      <td>Cilic M.</td>\n",
       "      <td>2.0</td>\n",
       "      <td>6.0</td>\n",
       "      <td>2018</td>\n",
       "      <td>0</td>\n",
       "      <td>-4.0</td>\n",
       "      <td>-0.232517</td>\n",
       "      <td>-0.872378</td>\n",
       "      <td>-1.648601</td>\n",
       "      <td>...</td>\n",
       "      <td>0.02</td>\n",
       "      <td>0.01</td>\n",
       "      <td>56.2</td>\n",
       "      <td>0</td>\n",
       "      <td>0</td>\n",
       "      <td>0</td>\n",
       "      <td>0</td>\n",
       "      <td>0</td>\n",
       "      <td>0</td>\n",
       "      <td>1</td>\n",
       "    </tr>\n",
       "  </tbody>\n",
       "</table>\n",
       "<p>323 rows × 28 columns</p>\n",
       "</div>"
      ],
      "text/plain": [
       "               player_0          player_1  rank_0  rank_1  Date  winner  \\\n",
       "1         Stakhovsky S.         Goffin D.    60.0    16.0  2016       1   \n",
       "2            Dzumhur D.         Edmund K.    81.0    88.0  2016       0   \n",
       "3    Estrella Burgos V.         Brands D.    55.0   151.0  2016       1   \n",
       "4          Nishikori K.  Kohlschreiber P.     7.0    34.0  2016       0   \n",
       "5                 Wu D.       Krajicek A.   243.0   103.0  2016       1   \n",
       "..                  ...               ...     ...     ...   ...     ...   \n",
       "122            Chung H.       Sandgren T.    58.0    97.0  2018       0   \n",
       "123          Berdych T.        Federer R.    20.0     2.0  2018       1   \n",
       "124            Cilic M.         Edmund K.     6.0    49.0  2018       0   \n",
       "125            Chung H.        Federer R.    58.0     2.0  2018       1   \n",
       "126          Federer R.          Cilic M.     2.0     6.0  2018       0   \n",
       "\n",
       "      rank  aces_per_match  double_faults_per_match  \\\n",
       "1     44.0       -1.163594                -2.261905   \n",
       "2     -7.0        0.146154                 0.171795   \n",
       "3    -96.0        2.331915                 1.837234   \n",
       "4    -27.0       -1.993590                 0.894231   \n",
       "5    140.0      -12.351449                -4.264493   \n",
       "..     ...             ...                      ...   \n",
       "122  -39.0        1.159184                 1.942857   \n",
       "123   18.0        2.898785                 2.747976   \n",
       "124  -43.0        2.104312                -0.351981   \n",
       "125   56.0       -6.194662                 0.469780   \n",
       "126   -4.0       -0.232517                -0.872378   \n",
       "\n",
       "     break_points_faced_per_match  ...  1st_serve_return_points_won  \\\n",
       "1                       -1.115207  ...                        -0.04   \n",
       "2                        0.516026  ...                         0.08   \n",
       "3                        5.294681  ...                        -0.02   \n",
       "4                       -1.198718  ...                         0.02   \n",
       "5                       -7.931159  ...                         0.06   \n",
       "..                            ...  ...                          ...   \n",
       "122                      3.654422  ...                         0.08   \n",
       "123                      4.334008  ...                        -0.06   \n",
       "124                     -1.005245  ...                         0.04   \n",
       "125                      1.195447  ...                         0.00   \n",
       "126                     -1.648601  ...                         0.02   \n",
       "\n",
       "     2nd_serve_return_points_won  pressure_rating  Round_1st Round  \\\n",
       "1                          -0.07             16.7                1   \n",
       "2                           0.09             20.5                1   \n",
       "3                          -0.11            -13.7                1   \n",
       "4                           0.05             16.4                1   \n",
       "5                           0.06              0.0                1   \n",
       "..                           ...              ...              ...   \n",
       "122                         0.01             45.9                0   \n",
       "123                         0.03            -52.6                0   \n",
       "124                        -0.02              9.8                0   \n",
       "125                         0.02            -39.0                0   \n",
       "126                         0.01             56.2                0   \n",
       "\n",
       "     Round_2nd Round  Round_3rd Round  Round_4th Round  Round_Quarterfinals  \\\n",
       "1                  0                0                0                    0   \n",
       "2                  0                0                0                    0   \n",
       "3                  0                0                0                    0   \n",
       "4                  0                0                0                    0   \n",
       "5                  0                0                0                    0   \n",
       "..               ...              ...              ...                  ...   \n",
       "122                0                0                0                    1   \n",
       "123                0                0                0                    1   \n",
       "124                0                0                0                    0   \n",
       "125                0                0                0                    0   \n",
       "126                0                0                0                    0   \n",
       "\n",
       "     Round_Semifinals  Round_The Final  \n",
       "1                   0                0  \n",
       "2                   0                0  \n",
       "3                   0                0  \n",
       "4                   0                0  \n",
       "5                   0                0  \n",
       "..                ...              ...  \n",
       "122                 0                0  \n",
       "123                 0                0  \n",
       "124                 1                0  \n",
       "125                 1                0  \n",
       "126                 0                1  \n",
       "\n",
       "[323 rows x 28 columns]"
      ]
     },
     "execution_count": 6,
     "metadata": {},
     "output_type": "execute_result"
    }
   ],
   "source": [
    "final_df = pd.get_dummies(final_df, columns=['Round'])\n",
    "final_df"
   ]
  },
  {
   "attachments": {},
   "cell_type": "markdown",
   "metadata": {},
   "source": [
    "# Modeling"
   ]
  },
  {
   "cell_type": "code",
   "execution_count": 7,
   "metadata": {},
   "outputs": [],
   "source": [
    "X_train = final_df.drop(columns=['winner','player_0','player_1','rank_0','rank_1'])\n",
    "y_train = final_df['winner']"
   ]
  },
  {
   "cell_type": "code",
   "execution_count": 8,
   "metadata": {},
   "outputs": [
    {
     "data": {
      "text/html": [
       "<style>#sk-container-id-1 {color: black;background-color: white;}#sk-container-id-1 pre{padding: 0;}#sk-container-id-1 div.sk-toggleable {background-color: white;}#sk-container-id-1 label.sk-toggleable__label {cursor: pointer;display: block;width: 100%;margin-bottom: 0;padding: 0.3em;box-sizing: border-box;text-align: center;}#sk-container-id-1 label.sk-toggleable__label-arrow:before {content: \"▸\";float: left;margin-right: 0.25em;color: #696969;}#sk-container-id-1 label.sk-toggleable__label-arrow:hover:before {color: black;}#sk-container-id-1 div.sk-estimator:hover label.sk-toggleable__label-arrow:before {color: black;}#sk-container-id-1 div.sk-toggleable__content {max-height: 0;max-width: 0;overflow: hidden;text-align: left;background-color: #f0f8ff;}#sk-container-id-1 div.sk-toggleable__content pre {margin: 0.2em;color: black;border-radius: 0.25em;background-color: #f0f8ff;}#sk-container-id-1 input.sk-toggleable__control:checked~div.sk-toggleable__content {max-height: 200px;max-width: 100%;overflow: auto;}#sk-container-id-1 input.sk-toggleable__control:checked~label.sk-toggleable__label-arrow:before {content: \"▾\";}#sk-container-id-1 div.sk-estimator input.sk-toggleable__control:checked~label.sk-toggleable__label {background-color: #d4ebff;}#sk-container-id-1 div.sk-label input.sk-toggleable__control:checked~label.sk-toggleable__label {background-color: #d4ebff;}#sk-container-id-1 input.sk-hidden--visually {border: 0;clip: rect(1px 1px 1px 1px);clip: rect(1px, 1px, 1px, 1px);height: 1px;margin: -1px;overflow: hidden;padding: 0;position: absolute;width: 1px;}#sk-container-id-1 div.sk-estimator {font-family: monospace;background-color: #f0f8ff;border: 1px dotted black;border-radius: 0.25em;box-sizing: border-box;margin-bottom: 0.5em;}#sk-container-id-1 div.sk-estimator:hover {background-color: #d4ebff;}#sk-container-id-1 div.sk-parallel-item::after {content: \"\";width: 100%;border-bottom: 1px solid gray;flex-grow: 1;}#sk-container-id-1 div.sk-label:hover label.sk-toggleable__label {background-color: #d4ebff;}#sk-container-id-1 div.sk-serial::before {content: \"\";position: absolute;border-left: 1px solid gray;box-sizing: border-box;top: 0;bottom: 0;left: 50%;z-index: 0;}#sk-container-id-1 div.sk-serial {display: flex;flex-direction: column;align-items: center;background-color: white;padding-right: 0.2em;padding-left: 0.2em;position: relative;}#sk-container-id-1 div.sk-item {position: relative;z-index: 1;}#sk-container-id-1 div.sk-parallel {display: flex;align-items: stretch;justify-content: center;background-color: white;position: relative;}#sk-container-id-1 div.sk-item::before, #sk-container-id-1 div.sk-parallel-item::before {content: \"\";position: absolute;border-left: 1px solid gray;box-sizing: border-box;top: 0;bottom: 0;left: 50%;z-index: -1;}#sk-container-id-1 div.sk-parallel-item {display: flex;flex-direction: column;z-index: 1;position: relative;background-color: white;}#sk-container-id-1 div.sk-parallel-item:first-child::after {align-self: flex-end;width: 50%;}#sk-container-id-1 div.sk-parallel-item:last-child::after {align-self: flex-start;width: 50%;}#sk-container-id-1 div.sk-parallel-item:only-child::after {width: 0;}#sk-container-id-1 div.sk-dashed-wrapped {border: 1px dashed gray;margin: 0 0.4em 0.5em 0.4em;box-sizing: border-box;padding-bottom: 0.4em;background-color: white;}#sk-container-id-1 div.sk-label label {font-family: monospace;font-weight: bold;display: inline-block;line-height: 1.2em;}#sk-container-id-1 div.sk-label-container {text-align: center;}#sk-container-id-1 div.sk-container {/* jupyter's `normalize.less` sets `[hidden] { display: none; }` but bootstrap.min.css set `[hidden] { display: none !important; }` so we also need the `!important` here to be able to override the default hidden behavior on the sphinx rendered scikit-learn.org. See: https://github.com/scikit-learn/scikit-learn/issues/21755 */display: inline-block !important;position: relative;}#sk-container-id-1 div.sk-text-repr-fallback {display: none;}</style><div id=\"sk-container-id-1\" class=\"sk-top-container\"><div class=\"sk-text-repr-fallback\"><pre>GradientBoostingClassifier(criterion=&#x27;squared_error&#x27;, learning_rate=1e-05,\n",
       "                           loss=&#x27;exponential&#x27;, n_estimators=10000)</pre><b>In a Jupyter environment, please rerun this cell to show the HTML representation or trust the notebook. <br />On GitHub, the HTML representation is unable to render, please try loading this page with nbviewer.org.</b></div><div class=\"sk-container\" hidden><div class=\"sk-item\"><div class=\"sk-estimator sk-toggleable\"><input class=\"sk-toggleable__control sk-hidden--visually\" id=\"sk-estimator-id-1\" type=\"checkbox\" checked><label for=\"sk-estimator-id-1\" class=\"sk-toggleable__label sk-toggleable__label-arrow\">GradientBoostingClassifier</label><div class=\"sk-toggleable__content\"><pre>GradientBoostingClassifier(criterion=&#x27;squared_error&#x27;, learning_rate=1e-05,\n",
       "                           loss=&#x27;exponential&#x27;, n_estimators=10000)</pre></div></div></div></div></div>"
      ],
      "text/plain": [
       "GradientBoostingClassifier(criterion='squared_error', learning_rate=1e-05,\n",
       "                           loss='exponential', n_estimators=10000)"
      ]
     },
     "execution_count": 8,
     "metadata": {},
     "output_type": "execute_result"
    }
   ],
   "source": [
    "model = GradientBoostingClassifier(n_estimators=10000, learning_rate=0.00001, criterion='squared_error', loss='exponential')\n",
    "model.fit(X_train, y_train)"
   ]
  },
  {
   "attachments": {},
   "cell_type": "markdown",
   "metadata": {},
   "source": [
    "# Predicting"
   ]
  },
  {
   "cell_type": "code",
   "execution_count": 9,
   "metadata": {},
   "outputs": [],
   "source": [
    "# We get data of players participating in 2019, \n",
    "# and their stats in 2018\n",
    "main_df = year_df(2019)\n",
    "main_df = pd.get_dummies(main_df, columns=['Round'])\n",
    "cols_to_have = main_df.columns\n",
    "main_df = main_df.loc[:63,].copy(deep=True)"
   ]
  },
  {
   "cell_type": "code",
   "execution_count": 10,
   "metadata": {},
   "outputs": [],
   "source": [
    "main_df.index = actual_seed\n",
    "main_df.sort_index(inplace=True)\n",
    "test = main_df.replace([np.inf,-np.inf],np.nan)\n",
    "test = test.dropna()\n",
    "\n",
    "# # test.drop(columns=['player_0','player_1','rank_0','rank_1'], inplace=True)\n",
    "X_test = test.drop(columns=['winner','player_0','player_1','rank_0','rank_1'])\n",
    "y_test = test['winner']"
   ]
  },
  {
   "attachments": {},
   "cell_type": "markdown",
   "metadata": {},
   "source": [
    "First Round (Round of 64) prediction accuracy"
   ]
  },
  {
   "cell_type": "code",
   "execution_count": 11,
   "metadata": {},
   "outputs": [
    {
     "data": {
      "text/plain": [
       "0.8571428571428571"
      ]
     },
     "execution_count": 11,
     "metadata": {},
     "output_type": "execute_result"
    }
   ],
   "source": [
    "model.score(X_test, y_test)"
   ]
  },
  {
   "attachments": {},
   "cell_type": "markdown",
   "metadata": {},
   "source": [
    "# First Round Predictions"
   ]
  },
  {
   "cell_type": "code",
   "execution_count": 12,
   "metadata": {},
   "outputs": [],
   "source": [
    "round_64 = model.predict(X_test)"
   ]
  },
  {
   "cell_type": "code",
   "execution_count": 13,
   "metadata": {},
   "outputs": [],
   "source": [
    "test = test.reset_index(drop=True)\n",
    "test['prediction'] = round_64"
   ]
  },
  {
   "cell_type": "code",
   "execution_count": 14,
   "metadata": {},
   "outputs": [],
   "source": [
    "# this dataframe helps in including the manual and model predictions\n",
    "middle_man = main_df.join(test[['player_0', 'player_1',\n",
    "                                'rank_0', 'rank_1', 'prediction']]\n",
    "                          .set_index(['player_0', 'player_1',\n",
    "                                      'rank_0', 'rank_1']),\n",
    "                          on=['player_0', 'player_1', 'rank_0', 'rank_1'])\n"
   ]
  },
  {
   "attachments": {},
   "cell_type": "markdown",
   "metadata": {},
   "source": [
    "## Force a certian prediction"
   ]
  },
  {
   "cell_type": "code",
   "execution_count": 15,
   "metadata": {},
   "outputs": [],
   "source": [
    "middle_man.loc[(middle_man.aces_per_match == np.inf) |\n",
    "               (middle_man.aces_per_match == -np.inf), 'prediction'] = middle_man.loc[(middle_man.aces_per_match == np.inf) |\n",
    "                                                                                      (middle_man.aces_per_match == -np.inf),].apply(lambda x: 1 if x.aces_per_match == -np.inf else 0, axis=1)\n"
   ]
  },
  {
   "cell_type": "code",
   "execution_count": 16,
   "metadata": {},
   "outputs": [],
   "source": [
    "middle_man['w_name'] = middle_man.apply(lambda x: x.player_0 if x.prediction == 0 else x.player_1, axis=1)\n",
    "middle_man['w_rank'] = middle_man.apply(lambda x: x.rank_0 if x.prediction == 0 else x.rank_1, axis=1)"
   ]
  },
  {
   "attachments": {},
   "cell_type": "markdown",
   "metadata": {},
   "source": [
    "# 2nd Round predictions (Round of 32)"
   ]
  },
  {
   "attachments": {},
   "cell_type": "markdown",
   "metadata": {},
   "source": [
    "## Preprocessing"
   ]
  },
  {
   "cell_type": "code",
   "execution_count": 17,
   "metadata": {},
   "outputs": [],
   "source": [
    "round_32 = middle_man[['w_name','w_rank']].copy(deep=True)"
   ]
  },
  {
   "cell_type": "code",
   "execution_count": 18,
   "metadata": {},
   "outputs": [],
   "source": [
    "r_32_even = round_32.iloc[::2,].copy(deep=True).reset_index(drop=True)\n",
    "r_32_odd = round_32.iloc[1::2,].copy(deep=True).reset_index(drop=True)"
   ]
  },
  {
   "cell_type": "code",
   "execution_count": 19,
   "metadata": {},
   "outputs": [],
   "source": [
    "r_32_even.columns = ['player_0','rank_0']\n",
    "r_32_odd.columns = ['player_1','rank_1']"
   ]
  },
  {
   "cell_type": "code",
   "execution_count": 20,
   "metadata": {},
   "outputs": [],
   "source": [
    "r_32_merge = pd.concat([r_32_even,r_32_odd], axis=1)\n",
    "r_32_merge['Round'] = '2nd Round'"
   ]
  },
  {
   "cell_type": "code",
   "execution_count": 21,
   "metadata": {},
   "outputs": [],
   "source": [
    "df2 = stat_df(2018)\n",
    "\n",
    "names_to_lookup = set(middle_man.player_0)\n",
    "names_to_lookup.update(middle_man.player_1)\n",
    "\n",
    "df2['new_name'] = df2['name'].apply(change_name)\n",
    "df2['other_name'] = df2['new_name'].apply(\n",
    "    lambda x: get_close_matches(x, names_to_lookup, 1, cutoff=0.5)[0])\n",
    "\n",
    "df2 = df2.drop(columns=['new_name'])"
   ]
  },
  {
   "cell_type": "code",
   "execution_count": 22,
   "metadata": {},
   "outputs": [],
   "source": [
    "r_32_merge[stats] = r_32_merge.apply(lambda x: df2.loc[df2.other_name == x.player_0,stats].copy(deep=True).iloc[0,] - df2.loc[df2.other_name == x.player_1,stats].copy(deep=True).iloc[0,], axis=1)"
   ]
  },
  {
   "cell_type": "code",
   "execution_count": 23,
   "metadata": {},
   "outputs": [],
   "source": [
    "r_32_merge['rank'] = r_32_merge['rank_0'] - r_32_merge['rank_1']\n",
    "r_32_merge = pd.get_dummies(r_32_merge, columns=['Round'])"
   ]
  },
  {
   "cell_type": "code",
   "execution_count": 24,
   "metadata": {},
   "outputs": [],
   "source": [
    "r_32_merge[['Round_1st Round','Round_3rd Round', 'Round_4th Round', 'Round_Quarterfinals','Round_Semifinals','Round_The Final']] = 0\n",
    "r_32_merge['Date'] = pd.to_datetime('2019')\n",
    "r_32_merge['Date'] = pd.to_datetime(r_32_merge['Date'], yearfirst=True).dt.year"
   ]
  },
  {
   "attachments": {},
   "cell_type": "markdown",
   "metadata": {},
   "source": [
    "## Predicting"
   ]
  },
  {
   "cell_type": "code",
   "execution_count": 25,
   "metadata": {},
   "outputs": [],
   "source": [
    "X_test = r_32_merge.drop(columns=['player_0', 'player_1', 'rank_0', 'rank_1'])\n",
    "r_32_pred = model.predict(X_test[X_train.columns])\n",
    "r_32_merge['prediction'] = r_32_pred"
   ]
  },
  {
   "cell_type": "code",
   "execution_count": null,
   "metadata": {},
   "outputs": [],
   "source": []
  },
  {
   "cell_type": "code",
   "execution_count": 26,
   "metadata": {},
   "outputs": [],
   "source": [
    "r_32_merge['w_name'] = r_32_merge.apply(lambda x: x.player_0 if x.prediction == 0 else x.player_1, axis=1)\n",
    "r_32_merge['w_rank'] = r_32_merge.apply(lambda x: x.rank_0 if x.prediction == 0 else x.rank_1, axis=1)"
   ]
  },
  {
   "cell_type": "code",
   "execution_count": 27,
   "metadata": {},
   "outputs": [
    {
     "data": {
      "text/html": [
       "<div>\n",
       "<style scoped>\n",
       "    .dataframe tbody tr th:only-of-type {\n",
       "        vertical-align: middle;\n",
       "    }\n",
       "\n",
       "    .dataframe tbody tr th {\n",
       "        vertical-align: top;\n",
       "    }\n",
       "\n",
       "    .dataframe thead th {\n",
       "        text-align: right;\n",
       "    }\n",
       "</style>\n",
       "<table border=\"1\" class=\"dataframe\">\n",
       "  <thead>\n",
       "    <tr style=\"text-align: right;\">\n",
       "      <th></th>\n",
       "      <th>w_name</th>\n",
       "      <th>w_rank</th>\n",
       "    </tr>\n",
       "  </thead>\n",
       "  <tbody>\n",
       "    <tr>\n",
       "      <th>0</th>\n",
       "      <td>Djokovic N.</td>\n",
       "      <td>1.0</td>\n",
       "    </tr>\n",
       "    <tr>\n",
       "      <th>1</th>\n",
       "      <td>Shapovalov D.</td>\n",
       "      <td>27.0</td>\n",
       "    </tr>\n",
       "    <tr>\n",
       "      <th>2</th>\n",
       "      <td>Goffin D.</td>\n",
       "      <td>22.0</td>\n",
       "    </tr>\n",
       "    <tr>\n",
       "      <th>3</th>\n",
       "      <td>Medvedev D.</td>\n",
       "      <td>19.0</td>\n",
       "    </tr>\n",
       "    <tr>\n",
       "      <th>4</th>\n",
       "      <td>Fognini F.</td>\n",
       "      <td>13.0</td>\n",
       "    </tr>\n",
       "    <tr>\n",
       "      <th>5</th>\n",
       "      <td>Carreno Busta P.</td>\n",
       "      <td>23.0</td>\n",
       "    </tr>\n",
       "    <tr>\n",
       "      <th>6</th>\n",
       "      <td>Kohlschreiber P.</td>\n",
       "      <td>32.0</td>\n",
       "    </tr>\n",
       "    <tr>\n",
       "      <th>7</th>\n",
       "      <td>Nishikori K.</td>\n",
       "      <td>9.0</td>\n",
       "    </tr>\n",
       "    <tr>\n",
       "      <th>8</th>\n",
       "      <td>Zverev A.</td>\n",
       "      <td>4.0</td>\n",
       "    </tr>\n",
       "    <tr>\n",
       "      <th>9</th>\n",
       "      <td>Simon G.</td>\n",
       "      <td>30.0</td>\n",
       "    </tr>\n",
       "    <tr>\n",
       "      <th>10</th>\n",
       "      <td>Chung H.</td>\n",
       "      <td>25.0</td>\n",
       "    </tr>\n",
       "    <tr>\n",
       "      <th>11</th>\n",
       "      <td>Raonic M.</td>\n",
       "      <td>17.0</td>\n",
       "    </tr>\n",
       "    <tr>\n",
       "      <th>12</th>\n",
       "      <td>Coric B.</td>\n",
       "      <td>12.0</td>\n",
       "    </tr>\n",
       "    <tr>\n",
       "      <th>13</th>\n",
       "      <td>Donskoy E.</td>\n",
       "      <td>96.0</td>\n",
       "    </tr>\n",
       "    <tr>\n",
       "      <th>14</th>\n",
       "      <td>Pouille L.</td>\n",
       "      <td>31.0</td>\n",
       "    </tr>\n",
       "    <tr>\n",
       "      <th>15</th>\n",
       "      <td>Thiem D.</td>\n",
       "      <td>8.0</td>\n",
       "    </tr>\n",
       "    <tr>\n",
       "      <th>16</th>\n",
       "      <td>Cilic M.</td>\n",
       "      <td>7.0</td>\n",
       "    </tr>\n",
       "    <tr>\n",
       "      <th>17</th>\n",
       "      <td>Verdasco F.</td>\n",
       "      <td>28.0</td>\n",
       "    </tr>\n",
       "    <tr>\n",
       "      <th>18</th>\n",
       "      <td>Bautista Agut R.</td>\n",
       "      <td>24.0</td>\n",
       "    </tr>\n",
       "    <tr>\n",
       "      <th>19</th>\n",
       "      <td>Nishioka Y.</td>\n",
       "      <td>69.0</td>\n",
       "    </tr>\n",
       "    <tr>\n",
       "      <th>20</th>\n",
       "      <td>Tsitsipas S.</td>\n",
       "      <td>15.0</td>\n",
       "    </tr>\n",
       "    <tr>\n",
       "      <th>21</th>\n",
       "      <td>Basilashvili N.</td>\n",
       "      <td>20.0</td>\n",
       "    </tr>\n",
       "    <tr>\n",
       "      <th>22</th>\n",
       "      <td>Monfils G.</td>\n",
       "      <td>33.0</td>\n",
       "    </tr>\n",
       "    <tr>\n",
       "      <th>23</th>\n",
       "      <td>Federer R.</td>\n",
       "      <td>3.0</td>\n",
       "    </tr>\n",
       "    <tr>\n",
       "      <th>24</th>\n",
       "      <td>Anderson K.</td>\n",
       "      <td>6.0</td>\n",
       "    </tr>\n",
       "    <tr>\n",
       "      <th>25</th>\n",
       "      <td>Lopez F.</td>\n",
       "      <td>66.0</td>\n",
       "    </tr>\n",
       "    <tr>\n",
       "      <th>26</th>\n",
       "      <td>Dimitrov G.</td>\n",
       "      <td>21.0</td>\n",
       "    </tr>\n",
       "    <tr>\n",
       "      <th>27</th>\n",
       "      <td>Isner J.</td>\n",
       "      <td>10.0</td>\n",
       "    </tr>\n",
       "    <tr>\n",
       "      <th>28</th>\n",
       "      <td>Berdych T.</td>\n",
       "      <td>57.0</td>\n",
       "    </tr>\n",
       "    <tr>\n",
       "      <th>29</th>\n",
       "      <td>Schwartzman D.</td>\n",
       "      <td>16.0</td>\n",
       "    </tr>\n",
       "    <tr>\n",
       "      <th>30</th>\n",
       "      <td>De Minaur A.</td>\n",
       "      <td>29.0</td>\n",
       "    </tr>\n",
       "    <tr>\n",
       "      <th>31</th>\n",
       "      <td>Nadal R.</td>\n",
       "      <td>2.0</td>\n",
       "    </tr>\n",
       "  </tbody>\n",
       "</table>\n",
       "</div>"
      ],
      "text/plain": [
       "              w_name  w_rank\n",
       "0        Djokovic N.     1.0\n",
       "1      Shapovalov D.    27.0\n",
       "2          Goffin D.    22.0\n",
       "3        Medvedev D.    19.0\n",
       "4         Fognini F.    13.0\n",
       "5   Carreno Busta P.    23.0\n",
       "6   Kohlschreiber P.    32.0\n",
       "7       Nishikori K.     9.0\n",
       "8          Zverev A.     4.0\n",
       "9           Simon G.    30.0\n",
       "10          Chung H.    25.0\n",
       "11         Raonic M.    17.0\n",
       "12          Coric B.    12.0\n",
       "13        Donskoy E.    96.0\n",
       "14        Pouille L.    31.0\n",
       "15          Thiem D.     8.0\n",
       "16          Cilic M.     7.0\n",
       "17       Verdasco F.    28.0\n",
       "18  Bautista Agut R.    24.0\n",
       "19       Nishioka Y.    69.0\n",
       "20      Tsitsipas S.    15.0\n",
       "21   Basilashvili N.    20.0\n",
       "22        Monfils G.    33.0\n",
       "23        Federer R.     3.0\n",
       "24       Anderson K.     6.0\n",
       "25          Lopez F.    66.0\n",
       "26       Dimitrov G.    21.0\n",
       "27          Isner J.    10.0\n",
       "28        Berdych T.    57.0\n",
       "29    Schwartzman D.    16.0\n",
       "30      De Minaur A.    29.0\n",
       "31          Nadal R.     2.0"
      ]
     },
     "execution_count": 27,
     "metadata": {},
     "output_type": "execute_result"
    }
   ],
   "source": [
    "r_32_merge[['w_name','w_rank']]"
   ]
  },
  {
   "attachments": {},
   "cell_type": "markdown",
   "metadata": {},
   "source": [
    "# 3rd Round predictions (Round of 16)"
   ]
  },
  {
   "attachments": {},
   "cell_type": "markdown",
   "metadata": {},
   "source": [
    "## Preprocessing"
   ]
  },
  {
   "cell_type": "code",
   "execution_count": 28,
   "metadata": {},
   "outputs": [],
   "source": [
    "r_16 = r_32_merge[['w_name','w_rank']].copy(deep=True)"
   ]
  },
  {
   "cell_type": "code",
   "execution_count": 29,
   "metadata": {},
   "outputs": [],
   "source": [
    "r_16_even = r_16.iloc[::2,].copy(deep=True).reset_index(drop=True)\n",
    "r_16_odd = r_16.iloc[1::2,].copy(deep=True).reset_index(drop=True)"
   ]
  },
  {
   "cell_type": "code",
   "execution_count": 30,
   "metadata": {},
   "outputs": [],
   "source": [
    "r_16_even.columns = ['player_0','rank_0']\n",
    "r_16_odd.columns = ['player_1','rank_1']"
   ]
  },
  {
   "cell_type": "code",
   "execution_count": 31,
   "metadata": {},
   "outputs": [],
   "source": [
    "r_16_merge = pd.concat([r_16_even,r_16_odd], axis=1)\n",
    "r_16_merge['Round'] = '3rd Round'"
   ]
  },
  {
   "cell_type": "code",
   "execution_count": 32,
   "metadata": {},
   "outputs": [],
   "source": [
    "r_16_merge[stats] = r_16_merge.apply(lambda x: df2.loc[df2.other_name == x.player_0,stats].copy(deep=True).iloc[0,] - df2.loc[df2.other_name == x.player_1,stats].copy(deep=True).iloc[0,], axis=1)"
   ]
  },
  {
   "cell_type": "code",
   "execution_count": 33,
   "metadata": {},
   "outputs": [],
   "source": [
    "r_16_merge['rank'] = r_16_merge['rank_0'] - r_16_merge['rank_1']\n",
    "r_16_merge = pd.get_dummies(r_16_merge, columns=['Round'])"
   ]
  },
  {
   "cell_type": "code",
   "execution_count": 34,
   "metadata": {},
   "outputs": [],
   "source": [
    "r_16_merge[['Round_1st Round','Round_2nd Round', 'Round_4th Round', 'Round_Quarterfinals','Round_Semifinals','Round_The Final']] = 0\n",
    "r_16_merge['Date'] = pd.to_datetime('2019')\n",
    "r_16_merge['Date'] = pd.to_datetime(r_16_merge['Date'], yearfirst=True).dt.year"
   ]
  },
  {
   "cell_type": "code",
   "execution_count": 35,
   "metadata": {},
   "outputs": [],
   "source": [
    "X_test = r_16_merge.drop(columns=['player_0','player_1','rank_0','rank_1'])\n",
    "r_16_pred = model.predict(X_test[X_train.columns])"
   ]
  },
  {
   "cell_type": "code",
   "execution_count": 36,
   "metadata": {},
   "outputs": [],
   "source": [
    "r_16_merge['prediction']= r_16_pred"
   ]
  },
  {
   "attachments": {},
   "cell_type": "markdown",
   "metadata": {},
   "source": [
    "# Final Contenders"
   ]
  },
  {
   "cell_type": "code",
   "execution_count": 37,
   "metadata": {},
   "outputs": [
    {
     "data": {
      "text/html": [
       "<div>\n",
       "<style scoped>\n",
       "    .dataframe tbody tr th:only-of-type {\n",
       "        vertical-align: middle;\n",
       "    }\n",
       "\n",
       "    .dataframe tbody tr th {\n",
       "        vertical-align: top;\n",
       "    }\n",
       "\n",
       "    .dataframe thead th {\n",
       "        text-align: right;\n",
       "    }\n",
       "</style>\n",
       "<table border=\"1\" class=\"dataframe\">\n",
       "  <thead>\n",
       "    <tr style=\"text-align: right;\">\n",
       "      <th></th>\n",
       "      <th>player_0</th>\n",
       "      <th>player_1</th>\n",
       "      <th>rank_0</th>\n",
       "      <th>rank_1</th>\n",
       "      <th>w_name</th>\n",
       "      <th>w_rank</th>\n",
       "    </tr>\n",
       "  </thead>\n",
       "  <tbody>\n",
       "    <tr>\n",
       "      <th>0</th>\n",
       "      <td>Djokovic N.</td>\n",
       "      <td>Shapovalov D.</td>\n",
       "      <td>1.0</td>\n",
       "      <td>27.0</td>\n",
       "      <td>Djokovic N.</td>\n",
       "      <td>1.0</td>\n",
       "    </tr>\n",
       "    <tr>\n",
       "      <th>1</th>\n",
       "      <td>Goffin D.</td>\n",
       "      <td>Medvedev D.</td>\n",
       "      <td>22.0</td>\n",
       "      <td>19.0</td>\n",
       "      <td>Goffin D.</td>\n",
       "      <td>22.0</td>\n",
       "    </tr>\n",
       "    <tr>\n",
       "      <th>2</th>\n",
       "      <td>Fognini F.</td>\n",
       "      <td>Carreno Busta P.</td>\n",
       "      <td>13.0</td>\n",
       "      <td>23.0</td>\n",
       "      <td>Fognini F.</td>\n",
       "      <td>13.0</td>\n",
       "    </tr>\n",
       "    <tr>\n",
       "      <th>3</th>\n",
       "      <td>Kohlschreiber P.</td>\n",
       "      <td>Nishikori K.</td>\n",
       "      <td>32.0</td>\n",
       "      <td>9.0</td>\n",
       "      <td>Nishikori K.</td>\n",
       "      <td>9.0</td>\n",
       "    </tr>\n",
       "    <tr>\n",
       "      <th>4</th>\n",
       "      <td>Zverev A.</td>\n",
       "      <td>Simon G.</td>\n",
       "      <td>4.0</td>\n",
       "      <td>30.0</td>\n",
       "      <td>Zverev A.</td>\n",
       "      <td>4.0</td>\n",
       "    </tr>\n",
       "    <tr>\n",
       "      <th>5</th>\n",
       "      <td>Chung H.</td>\n",
       "      <td>Raonic M.</td>\n",
       "      <td>25.0</td>\n",
       "      <td>17.0</td>\n",
       "      <td>Raonic M.</td>\n",
       "      <td>17.0</td>\n",
       "    </tr>\n",
       "    <tr>\n",
       "      <th>6</th>\n",
       "      <td>Coric B.</td>\n",
       "      <td>Donskoy E.</td>\n",
       "      <td>12.0</td>\n",
       "      <td>96.0</td>\n",
       "      <td>Coric B.</td>\n",
       "      <td>12.0</td>\n",
       "    </tr>\n",
       "    <tr>\n",
       "      <th>7</th>\n",
       "      <td>Pouille L.</td>\n",
       "      <td>Thiem D.</td>\n",
       "      <td>31.0</td>\n",
       "      <td>8.0</td>\n",
       "      <td>Thiem D.</td>\n",
       "      <td>8.0</td>\n",
       "    </tr>\n",
       "    <tr>\n",
       "      <th>8</th>\n",
       "      <td>Cilic M.</td>\n",
       "      <td>Verdasco F.</td>\n",
       "      <td>7.0</td>\n",
       "      <td>28.0</td>\n",
       "      <td>Cilic M.</td>\n",
       "      <td>7.0</td>\n",
       "    </tr>\n",
       "    <tr>\n",
       "      <th>9</th>\n",
       "      <td>Bautista Agut R.</td>\n",
       "      <td>Nishioka Y.</td>\n",
       "      <td>24.0</td>\n",
       "      <td>69.0</td>\n",
       "      <td>Bautista Agut R.</td>\n",
       "      <td>24.0</td>\n",
       "    </tr>\n",
       "    <tr>\n",
       "      <th>10</th>\n",
       "      <td>Tsitsipas S.</td>\n",
       "      <td>Basilashvili N.</td>\n",
       "      <td>15.0</td>\n",
       "      <td>20.0</td>\n",
       "      <td>Tsitsipas S.</td>\n",
       "      <td>15.0</td>\n",
       "    </tr>\n",
       "    <tr>\n",
       "      <th>11</th>\n",
       "      <td>Monfils G.</td>\n",
       "      <td>Federer R.</td>\n",
       "      <td>33.0</td>\n",
       "      <td>3.0</td>\n",
       "      <td>Federer R.</td>\n",
       "      <td>3.0</td>\n",
       "    </tr>\n",
       "    <tr>\n",
       "      <th>12</th>\n",
       "      <td>Anderson K.</td>\n",
       "      <td>Lopez F.</td>\n",
       "      <td>6.0</td>\n",
       "      <td>66.0</td>\n",
       "      <td>Anderson K.</td>\n",
       "      <td>6.0</td>\n",
       "    </tr>\n",
       "    <tr>\n",
       "      <th>13</th>\n",
       "      <td>Dimitrov G.</td>\n",
       "      <td>Isner J.</td>\n",
       "      <td>21.0</td>\n",
       "      <td>10.0</td>\n",
       "      <td>Isner J.</td>\n",
       "      <td>10.0</td>\n",
       "    </tr>\n",
       "    <tr>\n",
       "      <th>14</th>\n",
       "      <td>Berdych T.</td>\n",
       "      <td>Schwartzman D.</td>\n",
       "      <td>57.0</td>\n",
       "      <td>16.0</td>\n",
       "      <td>Schwartzman D.</td>\n",
       "      <td>16.0</td>\n",
       "    </tr>\n",
       "    <tr>\n",
       "      <th>15</th>\n",
       "      <td>De Minaur A.</td>\n",
       "      <td>Nadal R.</td>\n",
       "      <td>29.0</td>\n",
       "      <td>2.0</td>\n",
       "      <td>Nadal R.</td>\n",
       "      <td>2.0</td>\n",
       "    </tr>\n",
       "  </tbody>\n",
       "</table>\n",
       "</div>"
      ],
      "text/plain": [
       "            player_0          player_1  rank_0  rank_1            w_name  \\\n",
       "0        Djokovic N.     Shapovalov D.     1.0    27.0       Djokovic N.   \n",
       "1          Goffin D.       Medvedev D.    22.0    19.0         Goffin D.   \n",
       "2         Fognini F.  Carreno Busta P.    13.0    23.0        Fognini F.   \n",
       "3   Kohlschreiber P.      Nishikori K.    32.0     9.0      Nishikori K.   \n",
       "4          Zverev A.          Simon G.     4.0    30.0         Zverev A.   \n",
       "5           Chung H.         Raonic M.    25.0    17.0         Raonic M.   \n",
       "6           Coric B.        Donskoy E.    12.0    96.0          Coric B.   \n",
       "7         Pouille L.          Thiem D.    31.0     8.0          Thiem D.   \n",
       "8           Cilic M.       Verdasco F.     7.0    28.0          Cilic M.   \n",
       "9   Bautista Agut R.       Nishioka Y.    24.0    69.0  Bautista Agut R.   \n",
       "10      Tsitsipas S.   Basilashvili N.    15.0    20.0      Tsitsipas S.   \n",
       "11        Monfils G.        Federer R.    33.0     3.0        Federer R.   \n",
       "12       Anderson K.          Lopez F.     6.0    66.0       Anderson K.   \n",
       "13       Dimitrov G.          Isner J.    21.0    10.0          Isner J.   \n",
       "14        Berdych T.    Schwartzman D.    57.0    16.0    Schwartzman D.   \n",
       "15      De Minaur A.          Nadal R.    29.0     2.0          Nadal R.   \n",
       "\n",
       "    w_rank  \n",
       "0      1.0  \n",
       "1     22.0  \n",
       "2     13.0  \n",
       "3      9.0  \n",
       "4      4.0  \n",
       "5     17.0  \n",
       "6     12.0  \n",
       "7      8.0  \n",
       "8      7.0  \n",
       "9     24.0  \n",
       "10    15.0  \n",
       "11     3.0  \n",
       "12     6.0  \n",
       "13    10.0  \n",
       "14    16.0  \n",
       "15     2.0  "
      ]
     },
     "execution_count": 37,
     "metadata": {},
     "output_type": "execute_result"
    }
   ],
   "source": [
    "r_16_merge['w_name'] = r_16_merge.apply(lambda x: x.player_0 if x.prediction == 0 else x.player_1, axis=1)\n",
    "r_16_merge['w_rank'] = r_16_merge.apply(lambda x: x.rank_0 if x.prediction == 0 else x.rank_1, axis=1)\n",
    "r_16_merge[['player_0','player_1','rank_0','rank_1','w_name','w_rank']]"
   ]
  },
  {
   "cell_type": "code",
   "execution_count": 38,
   "metadata": {},
   "outputs": [
    {
     "data": {
      "text/html": [
       "<div>\n",
       "<style scoped>\n",
       "    .dataframe tbody tr th:only-of-type {\n",
       "        vertical-align: middle;\n",
       "    }\n",
       "\n",
       "    .dataframe tbody tr th {\n",
       "        vertical-align: top;\n",
       "    }\n",
       "\n",
       "    .dataframe thead th {\n",
       "        text-align: right;\n",
       "    }\n",
       "</style>\n",
       "<table border=\"1\" class=\"dataframe\">\n",
       "  <thead>\n",
       "    <tr style=\"text-align: right;\">\n",
       "      <th></th>\n",
       "      <th>name</th>\n",
       "      <th>actual</th>\n",
       "      <th>pred</th>\n",
       "    </tr>\n",
       "  </thead>\n",
       "  <tbody>\n",
       "    <tr>\n",
       "      <th>0</th>\n",
       "      <td>Ito T.</td>\n",
       "      <td>0</td>\n",
       "      <td>0</td>\n",
       "    </tr>\n",
       "    <tr>\n",
       "      <th>1</th>\n",
       "      <td>Raonic M.</td>\n",
       "      <td>1</td>\n",
       "      <td>1</td>\n",
       "    </tr>\n",
       "    <tr>\n",
       "      <th>2</th>\n",
       "      <td>Djere L.</td>\n",
       "      <td>0</td>\n",
       "      <td>0</td>\n",
       "    </tr>\n",
       "    <tr>\n",
       "      <th>3</th>\n",
       "      <td>Tsonga J.W.</td>\n",
       "      <td>0</td>\n",
       "      <td>0</td>\n",
       "    </tr>\n",
       "    <tr>\n",
       "      <th>4</th>\n",
       "      <td>Coric B.</td>\n",
       "      <td>1</td>\n",
       "      <td>1</td>\n",
       "    </tr>\n",
       "    <tr>\n",
       "      <th>...</th>\n",
       "      <td>...</td>\n",
       "      <td>...</td>\n",
       "      <td>...</td>\n",
       "    </tr>\n",
       "    <tr>\n",
       "      <th>123</th>\n",
       "      <td>Medvedev D.</td>\n",
       "      <td>1</td>\n",
       "      <td>0</td>\n",
       "    </tr>\n",
       "    <tr>\n",
       "      <th>124</th>\n",
       "      <td>Chung H.</td>\n",
       "      <td>0</td>\n",
       "      <td>0</td>\n",
       "    </tr>\n",
       "    <tr>\n",
       "      <th>125</th>\n",
       "      <td>Mannarino A.</td>\n",
       "      <td>0</td>\n",
       "      <td>0</td>\n",
       "    </tr>\n",
       "    <tr>\n",
       "      <th>126</th>\n",
       "      <td>Cecchinato M.</td>\n",
       "      <td>0</td>\n",
       "      <td>0</td>\n",
       "    </tr>\n",
       "    <tr>\n",
       "      <th>127</th>\n",
       "      <td>Cuevas P.</td>\n",
       "      <td>0</td>\n",
       "      <td>0</td>\n",
       "    </tr>\n",
       "  </tbody>\n",
       "</table>\n",
       "<p>128 rows × 3 columns</p>\n",
       "</div>"
      ],
      "text/plain": [
       "              name  actual  pred\n",
       "0           Ito T.       0     0\n",
       "1        Raonic M.       1     1\n",
       "2         Djere L.       0     0\n",
       "3      Tsonga J.W.       0     0\n",
       "4         Coric B.       1     1\n",
       "..             ...     ...   ...\n",
       "123    Medvedev D.       1     0\n",
       "124       Chung H.       0     0\n",
       "125   Mannarino A.       0     0\n",
       "126  Cecchinato M.       0     0\n",
       "127      Cuevas P.       0     0\n",
       "\n",
       "[128 rows x 3 columns]"
      ]
     },
     "execution_count": 38,
     "metadata": {},
     "output_type": "execute_result"
    }
   ],
   "source": [
    "test_df = pd.read_csv('./data/m2019.csv')\n",
    "winners = test_df.loc[test_df.Round == '3rd Round','Winner']\n",
    "\n",
    "conf_matrix = pd.DataFrame(columns=['name','actual','pred'])\n",
    "names = set(test_df.Loser)\n",
    "names.update(test_df.Winner)\n",
    "conf_matrix['name'] = pd.Series(list(names))\n",
    "conf_matrix['actual'] = 0\n",
    "conf_matrix['pred'] = 0\n",
    "conf_matrix.loc[conf_matrix['name'].isin(winners),'actual'] = 1\n",
    "pred_winners = r_16_merge['w_name']\n",
    "conf_matrix.loc[conf_matrix['name'].isin(pred_winners),'pred'] = 1\n",
    "conf_matrix"
   ]
  },
  {
   "cell_type": "code",
   "execution_count": 39,
   "metadata": {},
   "outputs": [
    {
     "data": {
      "text/plain": [
       "array([[106,   6],\n",
       "       [  6,  10]])"
      ]
     },
     "execution_count": 39,
     "metadata": {},
     "output_type": "execute_result"
    }
   ],
   "source": [
    "confusion_matrix(conf_matrix['actual'],conf_matrix['pred'])"
   ]
  },
  {
   "cell_type": "code",
   "execution_count": 40,
   "metadata": {},
   "outputs": [
    {
     "name": "stdout",
     "output_type": "stream",
     "text": [
      "Accuracy: 0.90625\n",
      "Precision: 0.625\n",
      "Recall: 0.625\n",
      "F1: 0.625\n"
     ]
    }
   ],
   "source": [
    "acc = accuracy_score(conf_matrix['actual'],conf_matrix['pred'])\n",
    "prec = precision_score(conf_matrix['actual'],conf_matrix['pred'])\n",
    "rec = recall_score(conf_matrix['actual'],conf_matrix['pred'])\n",
    "f1 = f1_score(conf_matrix['actual'],conf_matrix['pred'])\n",
    "print(f'Accuracy: {acc}\\nPrecision: {prec}\\nRecall: {rec}\\nF1: {f1}')"
   ]
  },
  {
   "cell_type": "code",
   "execution_count": 41,
   "metadata": {},
   "outputs": [
    {
     "data": {
      "text/html": [
       "<div>\n",
       "<style scoped>\n",
       "    .dataframe tbody tr th:only-of-type {\n",
       "        vertical-align: middle;\n",
       "    }\n",
       "\n",
       "    .dataframe tbody tr th {\n",
       "        vertical-align: top;\n",
       "    }\n",
       "\n",
       "    .dataframe thead th {\n",
       "        text-align: right;\n",
       "    }\n",
       "</style>\n",
       "<table border=\"1\" class=\"dataframe\">\n",
       "  <thead>\n",
       "    <tr style=\"text-align: right;\">\n",
       "      <th></th>\n",
       "      <th>name</th>\n",
       "      <th>actual</th>\n",
       "      <th>pred</th>\n",
       "    </tr>\n",
       "  </thead>\n",
       "  <tbody>\n",
       "    <tr>\n",
       "      <th>0</th>\n",
       "      <td>Ito T.</td>\n",
       "      <td>0</td>\n",
       "      <td>0</td>\n",
       "    </tr>\n",
       "    <tr>\n",
       "      <th>1</th>\n",
       "      <td>Raonic M.</td>\n",
       "      <td>1</td>\n",
       "      <td>1</td>\n",
       "    </tr>\n",
       "    <tr>\n",
       "      <th>2</th>\n",
       "      <td>Djere L.</td>\n",
       "      <td>0</td>\n",
       "      <td>0</td>\n",
       "    </tr>\n",
       "    <tr>\n",
       "      <th>3</th>\n",
       "      <td>Tsonga J.W.</td>\n",
       "      <td>0</td>\n",
       "      <td>0</td>\n",
       "    </tr>\n",
       "    <tr>\n",
       "      <th>4</th>\n",
       "      <td>Coric B.</td>\n",
       "      <td>1</td>\n",
       "      <td>1</td>\n",
       "    </tr>\n",
       "    <tr>\n",
       "      <th>...</th>\n",
       "      <td>...</td>\n",
       "      <td>...</td>\n",
       "      <td>...</td>\n",
       "    </tr>\n",
       "    <tr>\n",
       "      <th>123</th>\n",
       "      <td>Medvedev D.</td>\n",
       "      <td>1</td>\n",
       "      <td>1</td>\n",
       "    </tr>\n",
       "    <tr>\n",
       "      <th>124</th>\n",
       "      <td>Chung H.</td>\n",
       "      <td>0</td>\n",
       "      <td>1</td>\n",
       "    </tr>\n",
       "    <tr>\n",
       "      <th>125</th>\n",
       "      <td>Mannarino A.</td>\n",
       "      <td>0</td>\n",
       "      <td>0</td>\n",
       "    </tr>\n",
       "    <tr>\n",
       "      <th>126</th>\n",
       "      <td>Cecchinato M.</td>\n",
       "      <td>0</td>\n",
       "      <td>0</td>\n",
       "    </tr>\n",
       "    <tr>\n",
       "      <th>127</th>\n",
       "      <td>Cuevas P.</td>\n",
       "      <td>0</td>\n",
       "      <td>0</td>\n",
       "    </tr>\n",
       "  </tbody>\n",
       "</table>\n",
       "<p>128 rows × 3 columns</p>\n",
       "</div>"
      ],
      "text/plain": [
       "              name  actual  pred\n",
       "0           Ito T.       0     0\n",
       "1        Raonic M.       1     1\n",
       "2         Djere L.       0     0\n",
       "3      Tsonga J.W.       0     0\n",
       "4         Coric B.       1     1\n",
       "..             ...     ...   ...\n",
       "123    Medvedev D.       1     1\n",
       "124       Chung H.       0     1\n",
       "125   Mannarino A.       0     0\n",
       "126  Cecchinato M.       0     0\n",
       "127      Cuevas P.       0     0\n",
       "\n",
       "[128 rows x 3 columns]"
      ]
     },
     "execution_count": 41,
     "metadata": {},
     "output_type": "execute_result"
    }
   ],
   "source": [
    "test_df = pd.read_csv('./data/m2019.csv')\n",
    "winners = test_df.loc[test_df.Round == '2nd Round','Winner']\n",
    "\n",
    "conf_matrix = pd.DataFrame(columns=['name','actual','pred'])\n",
    "names = set(test_df.Loser)\n",
    "names.update(test_df.Winner)\n",
    "conf_matrix['name'] = pd.Series(list(names))\n",
    "conf_matrix['actual'] = 0\n",
    "conf_matrix['pred'] = 0\n",
    "conf_matrix.loc[conf_matrix['name'].isin(winners),'actual'] = 1\n",
    "pred_winners = r_16['w_name']\n",
    "conf_matrix.loc[conf_matrix['name'].isin(pred_winners),'pred'] = 1\n",
    "conf_matrix"
   ]
  },
  {
   "cell_type": "code",
   "execution_count": 42,
   "metadata": {},
   "outputs": [
    {
     "data": {
      "text/plain": [
       "array([[86, 10],\n",
       "       [10, 22]])"
      ]
     },
     "execution_count": 42,
     "metadata": {},
     "output_type": "execute_result"
    }
   ],
   "source": [
    "confusion_matrix(conf_matrix['actual'],conf_matrix['pred'])"
   ]
  },
  {
   "cell_type": "code",
   "execution_count": 43,
   "metadata": {},
   "outputs": [
    {
     "name": "stdout",
     "output_type": "stream",
     "text": [
      "Accuracy: 0.84375\n",
      "Precision: 0.6875\n",
      "Recall: 0.6875\n",
      "F1: 0.6875\n"
     ]
    }
   ],
   "source": [
    "acc = accuracy_score(conf_matrix['actual'],conf_matrix['pred'])\n",
    "prec = precision_score(conf_matrix['actual'],conf_matrix['pred'])\n",
    "rec = recall_score(conf_matrix['actual'],conf_matrix['pred'])\n",
    "f1 = f1_score(conf_matrix['actual'],conf_matrix['pred'])\n",
    "print(f'Accuracy: {acc}\\nPrecision: {prec}\\nRecall: {rec}\\nF1: {f1}')"
   ]
  },
  {
   "cell_type": "code",
   "execution_count": 44,
   "metadata": {},
   "outputs": [
    {
     "data": {
      "text/plain": [
       "array([0.        , 0.61669305, 0.        , 0.        , 0.        ,\n",
       "       0.01861855, 0.01630118, 0.0161992 , 0.00589856, 0.09673925,\n",
       "       0.        , 0.04732785, 0.10156023, 0.02469824, 0.        ,\n",
       "       0.0559639 , 0.        , 0.        , 0.        , 0.        ,\n",
       "       0.        , 0.        , 0.        ])"
      ]
     },
     "execution_count": 44,
     "metadata": {},
     "output_type": "execute_result"
    }
   ],
   "source": [
    "model.feature_importances_"
   ]
  },
  {
   "cell_type": "code",
   "execution_count": 45,
   "metadata": {},
   "outputs": [
    {
     "data": {
      "text/plain": [
       "array(['Date', 'rank', 'aces_per_match', 'double_faults_per_match',\n",
       "       'break_points_faced_per_match',\n",
       "       'break_points_opportunities_per_match', 'height (cm)',\n",
       "       'matches_played', '1st_serve', 'return_games_won',\n",
       "       '1st_serve_points_won', '2nd_serve_points_won',\n",
       "       'service_games_won', '1st_serve_return_points_won',\n",
       "       '2nd_serve_return_points_won', 'pressure_rating',\n",
       "       'Round_1st Round', 'Round_2nd Round', 'Round_3rd Round',\n",
       "       'Round_4th Round', 'Round_Quarterfinals', 'Round_Semifinals',\n",
       "       'Round_The Final'], dtype=object)"
      ]
     },
     "execution_count": 45,
     "metadata": {},
     "output_type": "execute_result"
    }
   ],
   "source": [
    "model.feature_names_in_"
   ]
  },
  {
   "cell_type": "code",
   "execution_count": 47,
   "metadata": {},
   "outputs": [
    {
     "data": {
      "text/html": [
       "<div>\n",
       "<style scoped>\n",
       "    .dataframe tbody tr th:only-of-type {\n",
       "        vertical-align: middle;\n",
       "    }\n",
       "\n",
       "    .dataframe tbody tr th {\n",
       "        vertical-align: top;\n",
       "    }\n",
       "\n",
       "    .dataframe thead th {\n",
       "        text-align: right;\n",
       "    }\n",
       "</style>\n",
       "<table border=\"1\" class=\"dataframe\">\n",
       "  <thead>\n",
       "    <tr style=\"text-align: right;\">\n",
       "      <th></th>\n",
       "      <th>name</th>\n",
       "      <th>importance</th>\n",
       "    </tr>\n",
       "  </thead>\n",
       "  <tbody>\n",
       "    <tr>\n",
       "      <th>0</th>\n",
       "      <td>Date</td>\n",
       "      <td>0.000000</td>\n",
       "    </tr>\n",
       "    <tr>\n",
       "      <th>1</th>\n",
       "      <td>rank</td>\n",
       "      <td>0.616693</td>\n",
       "    </tr>\n",
       "    <tr>\n",
       "      <th>2</th>\n",
       "      <td>aces_per_match</td>\n",
       "      <td>0.000000</td>\n",
       "    </tr>\n",
       "    <tr>\n",
       "      <th>3</th>\n",
       "      <td>double_faults_per_match</td>\n",
       "      <td>0.000000</td>\n",
       "    </tr>\n",
       "    <tr>\n",
       "      <th>4</th>\n",
       "      <td>break_points_faced_per_match</td>\n",
       "      <td>0.000000</td>\n",
       "    </tr>\n",
       "    <tr>\n",
       "      <th>5</th>\n",
       "      <td>break_points_opportunities_per_match</td>\n",
       "      <td>0.018619</td>\n",
       "    </tr>\n",
       "    <tr>\n",
       "      <th>6</th>\n",
       "      <td>height (cm)</td>\n",
       "      <td>0.016301</td>\n",
       "    </tr>\n",
       "    <tr>\n",
       "      <th>7</th>\n",
       "      <td>matches_played</td>\n",
       "      <td>0.016199</td>\n",
       "    </tr>\n",
       "    <tr>\n",
       "      <th>8</th>\n",
       "      <td>1st_serve</td>\n",
       "      <td>0.005899</td>\n",
       "    </tr>\n",
       "    <tr>\n",
       "      <th>9</th>\n",
       "      <td>return_games_won</td>\n",
       "      <td>0.096739</td>\n",
       "    </tr>\n",
       "    <tr>\n",
       "      <th>10</th>\n",
       "      <td>1st_serve_points_won</td>\n",
       "      <td>0.000000</td>\n",
       "    </tr>\n",
       "    <tr>\n",
       "      <th>11</th>\n",
       "      <td>2nd_serve_points_won</td>\n",
       "      <td>0.047328</td>\n",
       "    </tr>\n",
       "    <tr>\n",
       "      <th>12</th>\n",
       "      <td>service_games_won</td>\n",
       "      <td>0.101560</td>\n",
       "    </tr>\n",
       "    <tr>\n",
       "      <th>13</th>\n",
       "      <td>1st_serve_return_points_won</td>\n",
       "      <td>0.024698</td>\n",
       "    </tr>\n",
       "    <tr>\n",
       "      <th>14</th>\n",
       "      <td>2nd_serve_return_points_won</td>\n",
       "      <td>0.000000</td>\n",
       "    </tr>\n",
       "    <tr>\n",
       "      <th>15</th>\n",
       "      <td>pressure_rating</td>\n",
       "      <td>0.055964</td>\n",
       "    </tr>\n",
       "    <tr>\n",
       "      <th>16</th>\n",
       "      <td>Round_1st Round</td>\n",
       "      <td>0.000000</td>\n",
       "    </tr>\n",
       "    <tr>\n",
       "      <th>17</th>\n",
       "      <td>Round_2nd Round</td>\n",
       "      <td>0.000000</td>\n",
       "    </tr>\n",
       "    <tr>\n",
       "      <th>18</th>\n",
       "      <td>Round_3rd Round</td>\n",
       "      <td>0.000000</td>\n",
       "    </tr>\n",
       "    <tr>\n",
       "      <th>19</th>\n",
       "      <td>Round_4th Round</td>\n",
       "      <td>0.000000</td>\n",
       "    </tr>\n",
       "    <tr>\n",
       "      <th>20</th>\n",
       "      <td>Round_Quarterfinals</td>\n",
       "      <td>0.000000</td>\n",
       "    </tr>\n",
       "    <tr>\n",
       "      <th>21</th>\n",
       "      <td>Round_Semifinals</td>\n",
       "      <td>0.000000</td>\n",
       "    </tr>\n",
       "    <tr>\n",
       "      <th>22</th>\n",
       "      <td>Round_The Final</td>\n",
       "      <td>0.000000</td>\n",
       "    </tr>\n",
       "  </tbody>\n",
       "</table>\n",
       "</div>"
      ],
      "text/plain": [
       "                                    name  importance\n",
       "0                                   Date    0.000000\n",
       "1                                   rank    0.616693\n",
       "2                         aces_per_match    0.000000\n",
       "3                double_faults_per_match    0.000000\n",
       "4           break_points_faced_per_match    0.000000\n",
       "5   break_points_opportunities_per_match    0.018619\n",
       "6                            height (cm)    0.016301\n",
       "7                         matches_played    0.016199\n",
       "8                              1st_serve    0.005899\n",
       "9                       return_games_won    0.096739\n",
       "10                  1st_serve_points_won    0.000000\n",
       "11                  2nd_serve_points_won    0.047328\n",
       "12                     service_games_won    0.101560\n",
       "13           1st_serve_return_points_won    0.024698\n",
       "14           2nd_serve_return_points_won    0.000000\n",
       "15                       pressure_rating    0.055964\n",
       "16                       Round_1st Round    0.000000\n",
       "17                       Round_2nd Round    0.000000\n",
       "18                       Round_3rd Round    0.000000\n",
       "19                       Round_4th Round    0.000000\n",
       "20                   Round_Quarterfinals    0.000000\n",
       "21                      Round_Semifinals    0.000000\n",
       "22                       Round_The Final    0.000000"
      ]
     },
     "execution_count": 47,
     "metadata": {},
     "output_type": "execute_result"
    }
   ],
   "source": [
    "features = pd.DataFrame({\"name\":model.feature_names_in_,\"importance\":model.feature_importances_})\n",
    "features"
   ]
  },
  {
   "cell_type": "code",
   "execution_count": 48,
   "metadata": {},
   "outputs": [],
   "source": [
    "import plotly.express as px"
   ]
  },
  {
   "cell_type": "code",
   "execution_count": 50,
   "metadata": {},
   "outputs": [
    {
     "data": {
      "application/vnd.plotly.v1+json": {
       "config": {
        "plotlyServerURL": "https://plot.ly"
       },
       "data": [
        {
         "alignmentgroup": "True",
         "hovertemplate": "name=%{x}<br>importance=%{y}<extra></extra>",
         "legendgroup": "",
         "marker": {
          "color": "#636efa",
          "pattern": {
           "shape": ""
          }
         },
         "name": "",
         "offsetgroup": "",
         "orientation": "v",
         "showlegend": false,
         "textposition": "auto",
         "type": "bar",
         "x": [
          "rank",
          "service_games_won",
          "return_games_won",
          "pressure_rating",
          "2nd_serve_points_won",
          "1st_serve_return_points_won",
          "break_points_opportunities_per_match",
          "height (cm)",
          "matches_played",
          "1st_serve",
          "Round_1st Round",
          "Round_Semifinals",
          "Round_Quarterfinals",
          "Round_4th Round",
          "Round_3rd Round",
          "Round_2nd Round",
          "Date",
          "2nd_serve_return_points_won",
          "1st_serve_points_won",
          "break_points_faced_per_match",
          "double_faults_per_match",
          "aces_per_match",
          "Round_The Final"
         ],
         "xaxis": "x",
         "y": [
          0.6166930452412626,
          0.10156023383825558,
          0.09673924735613378,
          0.05596389787336536,
          0.04732785446741005,
          0.024698235129830416,
          0.018618549039235065,
          0.0163011824683088,
          0.016199197958810897,
          0.005898556627387367,
          0,
          0,
          0,
          0,
          0,
          0,
          0,
          0,
          0,
          0,
          0,
          0,
          0
         ],
         "yaxis": "y"
        }
       ],
       "layout": {
        "barmode": "relative",
        "legend": {
         "tracegroupgap": 0
        },
        "margin": {
         "t": 60
        },
        "template": {
         "data": {
          "bar": [
           {
            "error_x": {
             "color": "#2a3f5f"
            },
            "error_y": {
             "color": "#2a3f5f"
            },
            "marker": {
             "line": {
              "color": "#E5ECF6",
              "width": 0.5
             },
             "pattern": {
              "fillmode": "overlay",
              "size": 10,
              "solidity": 0.2
             }
            },
            "type": "bar"
           }
          ],
          "barpolar": [
           {
            "marker": {
             "line": {
              "color": "#E5ECF6",
              "width": 0.5
             },
             "pattern": {
              "fillmode": "overlay",
              "size": 10,
              "solidity": 0.2
             }
            },
            "type": "barpolar"
           }
          ],
          "carpet": [
           {
            "aaxis": {
             "endlinecolor": "#2a3f5f",
             "gridcolor": "white",
             "linecolor": "white",
             "minorgridcolor": "white",
             "startlinecolor": "#2a3f5f"
            },
            "baxis": {
             "endlinecolor": "#2a3f5f",
             "gridcolor": "white",
             "linecolor": "white",
             "minorgridcolor": "white",
             "startlinecolor": "#2a3f5f"
            },
            "type": "carpet"
           }
          ],
          "choropleth": [
           {
            "colorbar": {
             "outlinewidth": 0,
             "ticks": ""
            },
            "type": "choropleth"
           }
          ],
          "contour": [
           {
            "colorbar": {
             "outlinewidth": 0,
             "ticks": ""
            },
            "colorscale": [
             [
              0,
              "#0d0887"
             ],
             [
              0.1111111111111111,
              "#46039f"
             ],
             [
              0.2222222222222222,
              "#7201a8"
             ],
             [
              0.3333333333333333,
              "#9c179e"
             ],
             [
              0.4444444444444444,
              "#bd3786"
             ],
             [
              0.5555555555555556,
              "#d8576b"
             ],
             [
              0.6666666666666666,
              "#ed7953"
             ],
             [
              0.7777777777777778,
              "#fb9f3a"
             ],
             [
              0.8888888888888888,
              "#fdca26"
             ],
             [
              1,
              "#f0f921"
             ]
            ],
            "type": "contour"
           }
          ],
          "contourcarpet": [
           {
            "colorbar": {
             "outlinewidth": 0,
             "ticks": ""
            },
            "type": "contourcarpet"
           }
          ],
          "heatmap": [
           {
            "colorbar": {
             "outlinewidth": 0,
             "ticks": ""
            },
            "colorscale": [
             [
              0,
              "#0d0887"
             ],
             [
              0.1111111111111111,
              "#46039f"
             ],
             [
              0.2222222222222222,
              "#7201a8"
             ],
             [
              0.3333333333333333,
              "#9c179e"
             ],
             [
              0.4444444444444444,
              "#bd3786"
             ],
             [
              0.5555555555555556,
              "#d8576b"
             ],
             [
              0.6666666666666666,
              "#ed7953"
             ],
             [
              0.7777777777777778,
              "#fb9f3a"
             ],
             [
              0.8888888888888888,
              "#fdca26"
             ],
             [
              1,
              "#f0f921"
             ]
            ],
            "type": "heatmap"
           }
          ],
          "heatmapgl": [
           {
            "colorbar": {
             "outlinewidth": 0,
             "ticks": ""
            },
            "colorscale": [
             [
              0,
              "#0d0887"
             ],
             [
              0.1111111111111111,
              "#46039f"
             ],
             [
              0.2222222222222222,
              "#7201a8"
             ],
             [
              0.3333333333333333,
              "#9c179e"
             ],
             [
              0.4444444444444444,
              "#bd3786"
             ],
             [
              0.5555555555555556,
              "#d8576b"
             ],
             [
              0.6666666666666666,
              "#ed7953"
             ],
             [
              0.7777777777777778,
              "#fb9f3a"
             ],
             [
              0.8888888888888888,
              "#fdca26"
             ],
             [
              1,
              "#f0f921"
             ]
            ],
            "type": "heatmapgl"
           }
          ],
          "histogram": [
           {
            "marker": {
             "pattern": {
              "fillmode": "overlay",
              "size": 10,
              "solidity": 0.2
             }
            },
            "type": "histogram"
           }
          ],
          "histogram2d": [
           {
            "colorbar": {
             "outlinewidth": 0,
             "ticks": ""
            },
            "colorscale": [
             [
              0,
              "#0d0887"
             ],
             [
              0.1111111111111111,
              "#46039f"
             ],
             [
              0.2222222222222222,
              "#7201a8"
             ],
             [
              0.3333333333333333,
              "#9c179e"
             ],
             [
              0.4444444444444444,
              "#bd3786"
             ],
             [
              0.5555555555555556,
              "#d8576b"
             ],
             [
              0.6666666666666666,
              "#ed7953"
             ],
             [
              0.7777777777777778,
              "#fb9f3a"
             ],
             [
              0.8888888888888888,
              "#fdca26"
             ],
             [
              1,
              "#f0f921"
             ]
            ],
            "type": "histogram2d"
           }
          ],
          "histogram2dcontour": [
           {
            "colorbar": {
             "outlinewidth": 0,
             "ticks": ""
            },
            "colorscale": [
             [
              0,
              "#0d0887"
             ],
             [
              0.1111111111111111,
              "#46039f"
             ],
             [
              0.2222222222222222,
              "#7201a8"
             ],
             [
              0.3333333333333333,
              "#9c179e"
             ],
             [
              0.4444444444444444,
              "#bd3786"
             ],
             [
              0.5555555555555556,
              "#d8576b"
             ],
             [
              0.6666666666666666,
              "#ed7953"
             ],
             [
              0.7777777777777778,
              "#fb9f3a"
             ],
             [
              0.8888888888888888,
              "#fdca26"
             ],
             [
              1,
              "#f0f921"
             ]
            ],
            "type": "histogram2dcontour"
           }
          ],
          "mesh3d": [
           {
            "colorbar": {
             "outlinewidth": 0,
             "ticks": ""
            },
            "type": "mesh3d"
           }
          ],
          "parcoords": [
           {
            "line": {
             "colorbar": {
              "outlinewidth": 0,
              "ticks": ""
             }
            },
            "type": "parcoords"
           }
          ],
          "pie": [
           {
            "automargin": true,
            "type": "pie"
           }
          ],
          "scatter": [
           {
            "fillpattern": {
             "fillmode": "overlay",
             "size": 10,
             "solidity": 0.2
            },
            "type": "scatter"
           }
          ],
          "scatter3d": [
           {
            "line": {
             "colorbar": {
              "outlinewidth": 0,
              "ticks": ""
             }
            },
            "marker": {
             "colorbar": {
              "outlinewidth": 0,
              "ticks": ""
             }
            },
            "type": "scatter3d"
           }
          ],
          "scattercarpet": [
           {
            "marker": {
             "colorbar": {
              "outlinewidth": 0,
              "ticks": ""
             }
            },
            "type": "scattercarpet"
           }
          ],
          "scattergeo": [
           {
            "marker": {
             "colorbar": {
              "outlinewidth": 0,
              "ticks": ""
             }
            },
            "type": "scattergeo"
           }
          ],
          "scattergl": [
           {
            "marker": {
             "colorbar": {
              "outlinewidth": 0,
              "ticks": ""
             }
            },
            "type": "scattergl"
           }
          ],
          "scattermapbox": [
           {
            "marker": {
             "colorbar": {
              "outlinewidth": 0,
              "ticks": ""
             }
            },
            "type": "scattermapbox"
           }
          ],
          "scatterpolar": [
           {
            "marker": {
             "colorbar": {
              "outlinewidth": 0,
              "ticks": ""
             }
            },
            "type": "scatterpolar"
           }
          ],
          "scatterpolargl": [
           {
            "marker": {
             "colorbar": {
              "outlinewidth": 0,
              "ticks": ""
             }
            },
            "type": "scatterpolargl"
           }
          ],
          "scatterternary": [
           {
            "marker": {
             "colorbar": {
              "outlinewidth": 0,
              "ticks": ""
             }
            },
            "type": "scatterternary"
           }
          ],
          "surface": [
           {
            "colorbar": {
             "outlinewidth": 0,
             "ticks": ""
            },
            "colorscale": [
             [
              0,
              "#0d0887"
             ],
             [
              0.1111111111111111,
              "#46039f"
             ],
             [
              0.2222222222222222,
              "#7201a8"
             ],
             [
              0.3333333333333333,
              "#9c179e"
             ],
             [
              0.4444444444444444,
              "#bd3786"
             ],
             [
              0.5555555555555556,
              "#d8576b"
             ],
             [
              0.6666666666666666,
              "#ed7953"
             ],
             [
              0.7777777777777778,
              "#fb9f3a"
             ],
             [
              0.8888888888888888,
              "#fdca26"
             ],
             [
              1,
              "#f0f921"
             ]
            ],
            "type": "surface"
           }
          ],
          "table": [
           {
            "cells": {
             "fill": {
              "color": "#EBF0F8"
             },
             "line": {
              "color": "white"
             }
            },
            "header": {
             "fill": {
              "color": "#C8D4E3"
             },
             "line": {
              "color": "white"
             }
            },
            "type": "table"
           }
          ]
         },
         "layout": {
          "annotationdefaults": {
           "arrowcolor": "#2a3f5f",
           "arrowhead": 0,
           "arrowwidth": 1
          },
          "autotypenumbers": "strict",
          "coloraxis": {
           "colorbar": {
            "outlinewidth": 0,
            "ticks": ""
           }
          },
          "colorscale": {
           "diverging": [
            [
             0,
             "#8e0152"
            ],
            [
             0.1,
             "#c51b7d"
            ],
            [
             0.2,
             "#de77ae"
            ],
            [
             0.3,
             "#f1b6da"
            ],
            [
             0.4,
             "#fde0ef"
            ],
            [
             0.5,
             "#f7f7f7"
            ],
            [
             0.6,
             "#e6f5d0"
            ],
            [
             0.7,
             "#b8e186"
            ],
            [
             0.8,
             "#7fbc41"
            ],
            [
             0.9,
             "#4d9221"
            ],
            [
             1,
             "#276419"
            ]
           ],
           "sequential": [
            [
             0,
             "#0d0887"
            ],
            [
             0.1111111111111111,
             "#46039f"
            ],
            [
             0.2222222222222222,
             "#7201a8"
            ],
            [
             0.3333333333333333,
             "#9c179e"
            ],
            [
             0.4444444444444444,
             "#bd3786"
            ],
            [
             0.5555555555555556,
             "#d8576b"
            ],
            [
             0.6666666666666666,
             "#ed7953"
            ],
            [
             0.7777777777777778,
             "#fb9f3a"
            ],
            [
             0.8888888888888888,
             "#fdca26"
            ],
            [
             1,
             "#f0f921"
            ]
           ],
           "sequentialminus": [
            [
             0,
             "#0d0887"
            ],
            [
             0.1111111111111111,
             "#46039f"
            ],
            [
             0.2222222222222222,
             "#7201a8"
            ],
            [
             0.3333333333333333,
             "#9c179e"
            ],
            [
             0.4444444444444444,
             "#bd3786"
            ],
            [
             0.5555555555555556,
             "#d8576b"
            ],
            [
             0.6666666666666666,
             "#ed7953"
            ],
            [
             0.7777777777777778,
             "#fb9f3a"
            ],
            [
             0.8888888888888888,
             "#fdca26"
            ],
            [
             1,
             "#f0f921"
            ]
           ]
          },
          "colorway": [
           "#636efa",
           "#EF553B",
           "#00cc96",
           "#ab63fa",
           "#FFA15A",
           "#19d3f3",
           "#FF6692",
           "#B6E880",
           "#FF97FF",
           "#FECB52"
          ],
          "font": {
           "color": "#2a3f5f"
          },
          "geo": {
           "bgcolor": "white",
           "lakecolor": "white",
           "landcolor": "#E5ECF6",
           "showlakes": true,
           "showland": true,
           "subunitcolor": "white"
          },
          "hoverlabel": {
           "align": "left"
          },
          "hovermode": "closest",
          "mapbox": {
           "style": "light"
          },
          "paper_bgcolor": "white",
          "plot_bgcolor": "#E5ECF6",
          "polar": {
           "angularaxis": {
            "gridcolor": "white",
            "linecolor": "white",
            "ticks": ""
           },
           "bgcolor": "#E5ECF6",
           "radialaxis": {
            "gridcolor": "white",
            "linecolor": "white",
            "ticks": ""
           }
          },
          "scene": {
           "xaxis": {
            "backgroundcolor": "#E5ECF6",
            "gridcolor": "white",
            "gridwidth": 2,
            "linecolor": "white",
            "showbackground": true,
            "ticks": "",
            "zerolinecolor": "white"
           },
           "yaxis": {
            "backgroundcolor": "#E5ECF6",
            "gridcolor": "white",
            "gridwidth": 2,
            "linecolor": "white",
            "showbackground": true,
            "ticks": "",
            "zerolinecolor": "white"
           },
           "zaxis": {
            "backgroundcolor": "#E5ECF6",
            "gridcolor": "white",
            "gridwidth": 2,
            "linecolor": "white",
            "showbackground": true,
            "ticks": "",
            "zerolinecolor": "white"
           }
          },
          "shapedefaults": {
           "line": {
            "color": "#2a3f5f"
           }
          },
          "ternary": {
           "aaxis": {
            "gridcolor": "white",
            "linecolor": "white",
            "ticks": ""
           },
           "baxis": {
            "gridcolor": "white",
            "linecolor": "white",
            "ticks": ""
           },
           "bgcolor": "#E5ECF6",
           "caxis": {
            "gridcolor": "white",
            "linecolor": "white",
            "ticks": ""
           }
          },
          "title": {
           "x": 0.05
          },
          "xaxis": {
           "automargin": true,
           "gridcolor": "white",
           "linecolor": "white",
           "ticks": "",
           "title": {
            "standoff": 15
           },
           "zerolinecolor": "white",
           "zerolinewidth": 2
          },
          "yaxis": {
           "automargin": true,
           "gridcolor": "white",
           "linecolor": "white",
           "ticks": "",
           "title": {
            "standoff": 15
           },
           "zerolinecolor": "white",
           "zerolinewidth": 2
          }
         }
        },
        "xaxis": {
         "anchor": "y",
         "domain": [
          0,
          1
         ],
         "title": {
          "text": "name"
         }
        },
        "yaxis": {
         "anchor": "x",
         "domain": [
          0,
          1
         ],
         "title": {
          "text": "importance"
         }
        }
       }
      }
     },
     "metadata": {},
     "output_type": "display_data"
    }
   ],
   "source": [
    "px.bar(features.sort_values('importance',ascending=False), 'name','importance')"
   ]
  }
 ],
 "metadata": {
  "kernelspec": {
   "display_name": "venv",
   "language": "python",
   "name": "python3"
  },
  "language_info": {
   "codemirror_mode": {
    "name": "ipython",
    "version": 3
   },
   "file_extension": ".py",
   "mimetype": "text/x-python",
   "name": "python",
   "nbconvert_exporter": "python",
   "pygments_lexer": "ipython3",
   "version": "3.11.2"
  },
  "orig_nbformat": 4
 },
 "nbformat": 4,
 "nbformat_minor": 2
}
